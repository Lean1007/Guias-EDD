{
 "cells": [
  {
   "cell_type": "markdown",
   "id": "f05b7e77-8842-4ff5-bf9f-7433e68ccb68",
   "metadata": {
    "editable": true,
    "slideshow": {
     "slide_type": ""
    },
    "tags": []
   },
   "source": [
    "<p style=\"text-align: center\">\n",
    "    <img src=\"data:image/svg+xml,%3Csvg%20version%3D%221.2%22%20baseProfile%3D%22tiny%22%20xmlns%3D%22http%3A%2F%2Fwww.w3.org%2F2000%2Fsvg%22%20viewBox%3D%220%200%20136.5%2058%22%20height%3D%2250%22%20overflow%3D%22visible%22%20xml%3Aspace%3D%22preserve%22%3E%3Cg%20fill%3D%22%23141819%22%3E%3Cpath%20d%3D%22M0%2033.4h1v6.3c0%201.1.5%201.7%201.7%201.7s1.7-.5%201.7-1.7v-6.3h1v6.3c0%201.8-1%202.5-2.7%202.5-1.7.1-2.7-.7-2.7-2.5v-6.3zM8.1%2042.2v-8.8h1.3l3.2%207h.1v-7h1v8.8h-1.3l-3.3-7.3H9v7.3zM16.5%2033.4h1v8.7h-1zM24.4%2033.4h1l-2.3%208.8h-1.4l-2.3-8.8h1.1l1.9%207.5h.1zM27.4%2042.2v-8.8h4.7v.9h-3.7v2.9h3.2v.9h-3.2v3.2h3.9v.9zM35.3%2037.6h1.8c1.1%200%201.6-.5%201.6-1.6s-.5-1.6-1.6-1.6h-1.8v3.2zm0%204.6h-1v-8.7h3c1.6%200%202.5.9%202.5%202.5%200%201.3-.6%202-1.2%202.3l1.3%203.9h-1.1l-1.2-3.6h-2.3v3.6zM46.7%2035.6c-.1-1-.6-1.4-1.7-1.4-1%200-1.7.4-1.7%201.4%200%201%20.8%201.2%201.9%201.6%201.4.4%202.7.9%202.7%202.6%200%201.7-1.1%202.5-2.8%202.5-1.8%200-2.8-.8-2.9-2.5l1-.1c.1%201.2.7%201.7%201.9%201.7%201.1%200%201.8-.5%201.8-1.5s-.6-1.3-1.9-1.7c-1.4-.4-2.6-.8-2.6-2.5s1.1-2.4%202.8-2.4c1.6%200%202.6.6%202.8%202.2l-1.3.1zM50.2%2033.4h1v8.7h-1zM55%2041.3h1.9c1%200%201.7-.5%201.7-1.5v-4c0-1-.6-1.5-1.7-1.5H55v7zm-1-7.9h2.8c1.8%200%202.8.7%202.8%202.5v3.7c0%201.8-1%202.5-2.8%202.5H54v-8.7zM63.2%2039.1H66l-1.3-4.6h-.1l-1.4%204.6zm-.8%203.1h-1.1l2.6-8.7h1.5l2.6%208.7h-1.1l-.6-2.2H63l-.6%202.2zM70.9%2041.3h1.9c1%200%201.7-.5%201.7-1.5v-4c0-1-.6-1.5-1.7-1.5h-1.9v7zm-1.1-7.9h2.8c1.8%200%202.8.7%202.8%202.5v3.7c0%201.8-1%202.5-2.8%202.5h-2.8v-8.7zM81.3%2042.2v-8.8h1.3l3.2%207h.1v-7h1v8.8h-1.3l-3.3-7.3h-.1v7.3zM90.7%2039.1h2.8l-1.3-4.6H92l-1.3%204.6zm-.9%203.1h-1.1l2.6-8.7h1.5l2.6%208.7h-1.1l-.6-2.2h-3.3l-.6%202.2zM101.2%2036.1v-.4c0-1.1-.5-1.5-1.7-1.5-1.1%200-1.8.4-1.8%201.5v4.1c0%201.1.6%201.5%201.8%201.5%201.1%200%201.7-.5%201.7-1.5v-.4l1%20.1v.1c0%201.8-.9%202.6-2.7%202.6-1.8%200-2.8-.7-2.8-2.5v-4c0-1.8%201-2.5%202.8-2.5%201.8%200%202.7.7%202.7%202.6v.2l-1%20.1zM104.7%2033.4h1v8.7h-1zM109.3%2039.9c0%201.1.7%201.5%201.8%201.5s1.8-.4%201.8-1.5v-4.1c0-1.1-.7-1.5-1.8-1.5s-1.8.4-1.8%201.5v4.1zm-1-4.1c0-1.9%201-2.5%202.8-2.5%201.8%200%202.8.7%202.8%202.5v3.9c0%201.9-1%202.5-2.8%202.5-1.8%200-2.8-.7-2.8-2.5v-3.9zM116.5%2042.2v-8.8h1.3l3.2%207h.1v-7h.9v8.8h-1.2l-3.3-7.3h-.1v7.3zM125.9%2039.1h2.8l-1.3-4.6h-.1l-1.4%204.6zm-.9%203.1h-1.1l2.6-8.7h1.5l2.6%208.7h-1.1l-.6-2.1h-3.3l-.6%202.1zM132.5%2042.2v-8.8h1v7.9h3v.9zM1.2%2057h1.9c1%200%201.7-.5%201.7-1.5v-4c0-1-.6-1.5-1.7-1.5H1.2v7zM.1%2049.1H3c1.8%200%202.8.7%202.8%202.5v3.7c0%201.8-1%202.5-2.8%202.5H.1v-8.7zM8.3%2057.9v-8.8H13v.9H9.3v2.9h3.3v.9H9.3V57h3.9v.9zM19.7%2050.1h-2.1v-1h5.1v1h-2v7.8h-1zM25.6%2053.3h1.8c1.1%200%201.6-.5%201.6-1.6s-.5-1.6-1.6-1.6h-1.8v3.2zm0%204.6h-1v-8.7h3c1.6%200%202.5.9%202.5%202.5%200%201.3-.6%202-1.2%202.3l1.3%203.9h-1.1l-1.2-3.6h-2.3v3.6zM32.8%2057.9v-8.8h4.7v.9h-3.7v2.9H37v.9h-3.2V57h3.9v.9zM44%2051.3c-.1-1-.6-1.4-1.7-1.4-1%200-1.7.4-1.7%201.4%200%201%20.8%201.2%201.9%201.6%201.4.4%202.7.9%202.7%202.6%200%201.7-1.1%202.5-2.8%202.5-1.8%200-2.8-.8-2.9-2.5l1-.1c.1%201.2.7%201.7%201.9%201.7%201.1%200%201.8-.5%201.8-1.5s-.6-1.3-1.9-1.7c-1.4-.4-2.6-.8-2.6-2.5s1.1-2.4%202.8-2.4c1.6%200%202.6.6%202.8%202.2l-1.3.1zM51.8%2057h1.9c1.1%200%201.7-.5%201.7-1.5v-4c0-1-.6-1.5-1.7-1.5h-1.9v7zm-1-7.9h2.8c1.8%200%202.8.7%202.8%202.5v3.7c0%201.8-1%202.5-2.8%202.5h-2.8v-8.7zM58.9%2057.9v-8.8h4.7v.9h-3.7v2.9h3.3v.9h-3.3V57h3.9v.9zM69.2%2057.9v-8.8h4.4v.9h-3.4v2.9h3v.9h-3v4.1zM75.6%2057.9v-8.8h4.7v.9h-3.7v2.9h3.2v.9h-3.2V57h3.9v.9zM83.5%2057h2.1c1.1%200%201.7-.6%201.7-1.6%200-1.1-.6-1.6-1.7-1.6h-2V57zm0-4.1h2c1%200%201.5-.5%201.5-1.4%200-1-.5-1.4-1.5-1.4h-2v2.8zm-1-3.8h3.3c1.6%200%202.3.7%202.3%202.2%200%201-.3%201.6-1%201.9v.1c.6.2%201.2.9%201.2%202.1%200%201.5-.7%202.4-2.4%202.4h-3.4v-8.7zM91.9%2053.3h1.8c1.1%200%201.6-.5%201.6-1.6s-.5-1.6-1.6-1.6h-1.8v3.2zm0%204.6h-1v-8.7h3c1.6%200%202.5.9%202.5%202.5%200%201.3-.6%202-1.2%202.3l1.3%203.9h-1.1l-1.2-3.6h-2.3v3.6zM99%2057.9v-8.8h4.7v.9H100v2.9h3.3v.9H100V57h3.9v.9zM107%2053.3h1.8c1.1%200%201.6-.5%201.6-1.6s-.5-1.6-1.6-1.6H107v3.2zm0%204.6h-1v-8.7h3c1.6%200%202.5.9%202.5%202.5%200%201.3-.6%202-1.2%202.3l1.3%203.9h-1.1l-1.2-3.6H107v3.6zM114.9%2055.6c0%201.1.7%201.5%201.8%201.5s1.8-.4%201.8-1.5v-4.1c0-1.1-.7-1.5-1.8-1.5s-1.8.4-1.8%201.5v4.1zm-1-4.1c0-1.9%201-2.5%202.8-2.5%201.8%200%202.8.7%202.8%202.5v3.9c0%201.9-1%202.5-2.8%202.5-1.8%200-2.8-.7-2.8-2.5v-3.9zM0%2023.7h96.4v3.6H0zM69.1%2017.5V0h11.5v2.9h-8V7h7.3v2.9h-7.3v4.7H81v2.9H69.1zm16.2%200V0h11v2.9h-7.6V7h6.9v2.9h-6.9v7.6h-3.4zm-30.8%200H51V0h7.2C62.1%200%2064%201.8%2064%205.3c0%202.8-1.4%204.1-2.7%204.6l2.9%207.6h-3.8l-2.4-7h-3.5v7zm0-9.8h2.9c2%200%203-.6%203-2.5s-1-2.5-3-2.5h-2.9v5zM39.9%202.9h-4.4V0h12.4v2.9h-4.4v14.6H40V2.9zM18.8%2017.5V0h4.1l5.8%2011.7h.2V0h3.4v17.5h-4L22.2%205.3H22v12.2h-3.2zM.1%200h3.5v12.1c0%202%201%202.8%203%202.8s3-.8%203-2.8V0h3.5v12.1c0%203.8-2.3%205.7-6.5%205.7S.1%2015.9.1%2012.1V0z%22%2F%3E%3C%2Fg%3E%3C%2Fsvg%3E\" />\n",
    "</p>\n",
    "\n",
    "<h2 style=\"text-align: center\">Estructura de Datos</h2>\n",
    "<h3 style=\"text-align: center\">Grafos: Caminos Mínimos</h3>\n",
    "<h3 style=\"text-align: center\">Guía de Ejercicios</h3>"
   ]
  },
  {
   "cell_type": "code",
   "execution_count": null,
   "id": "8685ce2e",
   "metadata": {},
   "outputs": [],
   "source": [
    "#Ejecutar si hace falta instalar las librerias\n",
    "%pip install networkx matplotlib"
   ]
  },
  {
   "cell_type": "markdown",
   "id": "bb37ddd9-6839-4872-bcaf-a8e7ca3c3552",
   "metadata": {
    "editable": true,
    "slideshow": {
     "slide_type": ""
    },
    "tags": []
   },
   "source": [
    "### Ejercicio 1\n",
    "\n",
    "Dado el siguiente grafo, calcular la distancia más corta desde $A$ a todos vértices, aplicando el algoritmo de Dijkstra. Mostrar paso a paso la aplicación del algoritmo. Indicar los caminos correspondientes.\n",
    "\n",
    "|     |  A  |  B  |  C  |  D  |  E  |\n",
    "|-----|-----|-----|-----|-----|-----|\n",
    "| A   |  0  | 12  |  0  | 87  |  0  |\n",
    "| B   |  0  |  0  |  0  |  0  | 11  |\n",
    "| C   | 19  |  0  |  0  |  0  |  0  |\n",
    "| D   |  0  | 23  |  0  |  0  |  0  |\n",
    "| E   |  0  |  0  |  0  |  0  |  0  |"
   ]
  },
  {
   "cell_type": "markdown",
   "id": "db010c17-a684-43ec-8b0e-66f85a1206b0",
   "metadata": {
    "editable": true,
    "slideshow": {
     "slide_type": ""
    },
    "tags": []
   },
   "source": [
    "COMPLETA AQUÍ TU \n"
   ]
  },
  {
   "cell_type": "markdown",
   "id": "6445da65-6b37-429f-8435-162662c02885",
   "metadata": {
    "editable": true,
    "slideshow": {
     "slide_type": ""
    },
    "tags": []
   },
   "source": [
    "### Ejercicio 2\n",
    "\n",
    "Dado el siguiente grafo, explicar con un ejemplo concreto por qué no es aplicable el algoritmo de Dijkstra.  \n",
    "> Pista: elegir un vertice de inicio y mostrar paso a paso como falla el algoritmo.\n",
    "\n",
    "- 1: [(2, 4), (3, 8), (4, 3)]\n",
    "- 2: [(4, -10), (5, 5)]\n",
    "- 3: [(2, 4)]\n",
    "- 4: [(5, 6)]\n",
    "- 5: [(3, 5)]"
   ]
  },
  {
   "cell_type": "markdown",
   "id": "d6cb2126-9d4c-4758-8822-212600226145",
   "metadata": {
    "editable": true,
    "slideshow": {
     "slide_type": ""
    },
    "tags": []
   },
   "source": [
    "COMPLETA AQUÍ TU RESPUESTA\n"
   ]
  },
  {
   "cell_type": "markdown",
   "id": "58a63602-092e-4c12-9c0f-dafa1adf7efb",
   "metadata": {
    "editable": true,
    "slideshow": {
     "slide_type": ""
    },
    "tags": []
   },
   "source": [
    "### Ejercicio 3\n",
    "\n",
    "Dado el grafo del ejercicio anterior, aplicar el algoritmo de Bellman-Ford para calcular el camino mínimo desde el vértice elegido en el punto anterior a los demás vértices. Mostrar paso a paso la aplicación del algoritmo. Indicar los caminos correspondientes."
   ]
  },
  {
   "cell_type": "markdown",
   "id": "457b2b41-f0ba-4503-be8f-290f36860028",
   "metadata": {
    "editable": true,
    "slideshow": {
     "slide_type": ""
    },
    "tags": []
   },
   "source": [
    "COMPLETA AQUÍ TU RESPUESTA\n"
   ]
  },
  {
   "cell_type": "markdown",
   "id": "92ba565c-0931-4f2b-b9b5-02321bfb7b81",
   "metadata": {
    "editable": true,
    "slideshow": {
     "slide_type": ""
    },
    "tags": []
   },
   "source": [
    "### Ejercicio 4\n",
    "\n",
    "Escribir una función que implemente el algoritmo de Dijkstra. La función debe recibir como parámetros un grafo dirigido con pesos en las aristas y un nodo inicial, y debe devolver un diccionario con la distancia mínima desde el nodo inicial a todos los demás nodos del grafo.\n",
    "\n",
    "Pista: usar el módulo `heapq` para implementar la cola de prioridad. Para indicar distancia infinito usar `float('inf')`.\n",
    "\n"
   ]
  },
  {
   "cell_type": "code",
   "execution_count": null,
   "id": "d8b63279",
   "metadata": {},
   "outputs": [],
   "source": [
    "import heapq\n",
    "\n",
    "def camino_minimo_dijkstra(grafo, origen):\n",
    "    \"\"\"\n",
    "    Calcula las distancias mínimas desde el nodo inicial a todos los demás nodos usando el algoritmo de Dijkstra.\n",
    "\n",
    "    Parámetros:\n",
    "        grafo: networkx.DiGraph\n",
    "            Grafo dirigido con pesos en las aristas.\n",
    "        origen: nodo\n",
    "            Nodo inicial desde el cual se calculan las distancias.\n",
    "\n",
    "    Devuelve:\n",
    "        dict\n",
    "            Diccionario donde las claves son los nodos y los valores son tuplas (distancia mínima, predecesor).\n",
    "            Ejemplo: {'A': (0, None), 'B': (12, 'A'), ...}\n",
    "    \"\"\"\n",
    "    pass"
   ]
  },
  {
   "cell_type": "code",
   "execution_count": null,
   "id": "f71910d9",
   "metadata": {},
   "outputs": [],
   "source": [
    "import networkx as nx\n",
    "import matplotlib.pyplot as plt\n",
    "\n",
    "grafo = nx.DiGraph()\n",
    "grafo.add_weighted_edges_from([\n",
    "    ('A', 'B', 12),\n",
    "    ('A', 'D', 87),\n",
    "    ('B', 'E', 11),\n",
    "    ('C', 'A', 19),\n",
    "    ('D', 'B', 23)\n",
    "])\n",
    "origen = 'A'\n",
    "distancias = camino_minimo_dijkstra(grafo, origen)\n",
    "print(distancias)\n",
    "\n",
    "node_colors = ['orange' if n == origen else 'lightblue' for n in grafo.nodes]\n",
    "pos = nx.spring_layout(grafo, seed=42)  # Generate positions for current graph\n",
    "labels = nx.get_edge_attributes(grafo, 'weight')  # Get edge labels for current graph\n",
    "plt.figure(figsize=(5, 3))\n",
    "nx.draw(grafo, pos, with_labels=True, node_color=node_colors, node_size=400, arrows=True)\n",
    "nx.draw_networkx_edge_labels(grafo, pos, edge_labels=labels)\n",
    "plt.show()"
   ]
  },
  {
   "cell_type": "code",
   "execution_count": null,
   "id": "c3c51c84-97fd-4d29-a566-cbc71b8b38d3",
   "metadata": {
    "editable": true,
    "slideshow": {
     "slide_type": ""
    },
    "tags": []
   },
   "outputs": [],
   "source": [
    "from unittest import TestCase, main\n",
    "\n",
    "class TestCaminoMinimoDijkstra(TestCase):\n",
    "    def setUp(self):\n",
    "        self.grafo = nx.DiGraph()\n",
    "        self.grafo.add_weighted_edges_from([\n",
    "            ('A', 'B', 12),\n",
    "            ('A', 'D', 87),\n",
    "            ('B', 'E', 11),\n",
    "            ('C', 'A', 19),\n",
    "            ('D', 'B', 23)\n",
    "        ])\n",
    "        self.origen = 'A'\n",
    "\n",
    "    def test_distancias_y_predecesores(self):\n",
    "        resultado = camino_minimo_dijkstra(self.grafo, self.origen)\n",
    "        esperado = {\n",
    "            'A': (0, None),\n",
    "            'B': (12, 'A'),\n",
    "            'C': (float('inf'), None),\n",
    "            'D': (87, 'A'),\n",
    "            'E': (23, 'B')\n",
    "        }\n",
    "        self.assertEqual(resultado, esperado)\n",
    "\n",
    "    def test_grafo_desconectado(self):\n",
    "        grafo = nx.DiGraph()\n",
    "        grafo.add_weighted_edges_from([\n",
    "            ('A', 'B', 1),\n",
    "            ('C', 'D', 2)\n",
    "        ])\n",
    "        resultado = camino_minimo_dijkstra(grafo, 'A')\n",
    "        esperado = {\n",
    "            'A': (0, None),\n",
    "            'B': (1, 'A'),\n",
    "            'C': (float('inf'), None),\n",
    "            'D': (float('inf'), None)\n",
    "        }\n",
    "        self.assertEqual(resultado, esperado)\n",
    "\n",
    "    def test_arista_negativa_no_falla(self):\n",
    "        grafo = nx.DiGraph()\n",
    "        grafo.add_weighted_edges_from([\n",
    "            ('A', 'B', -2),\n",
    "            ('B', 'C', 3)\n",
    "        ])\n",
    "        resultado = camino_minimo_dijkstra(grafo, 'A')\n",
    "        esperado = {\n",
    "            'A': (0, None),\n",
    "            'B': (-2, 'A'),\n",
    "            'C': (1, 'B')\n",
    "        }\n",
    "        self.assertEqual(resultado, esperado)\n",
    "\n",
    "test = main(argv=[\"\"], defaultTest=\"TestCaminoMinimoDijkstra\", verbosity=2, exit=False)\n",
    "len(test.result.failures) == 0"
   ]
  },
  {
   "cell_type": "markdown",
   "id": "0db641a0-a092-48ef-904e-5112ae843340",
   "metadata": {
    "editable": true,
    "slideshow": {
     "slide_type": ""
    },
    "tags": []
   },
   "source": [
    "### Ejercicio 5\n",
    "\n",
    "Escribir una función que implemente el algoritmo de Bellman-Ford. La función debe recibir como parámetros un grafo dirigido con pesos en las aristas y un nodo inicial, y debe devolver un diccionario con la distancia mínima desde el nodo inicial a todos los demás nodos del grafo."
   ]
  },
  {
   "cell_type": "code",
   "execution_count": null,
   "id": "49957e7b-5481-4002-872d-a22608ac3137",
   "metadata": {
    "editable": true,
    "slideshow": {
     "slide_type": ""
    },
    "tags": []
   },
   "outputs": [],
   "source": [
    "import networkx as nx\n",
    "\n",
    "def camino_minimo_bellman_ford(grafo, origen):\n",
    "   \"\"\"\n",
    "   Calcula las distancias mínimas desde el nodo inicial a todos los demás nodos usando el algoritmo de Bellman-Ford.\n",
    "\n",
    "   Parámetros:\n",
    "      grafo: networkx.DiGraph\n",
    "         Grafo dirigido con pesos en las aristas.\n",
    "      origen: nodo\n",
    "         Nodo inicial desde el cual se calculan las distancias.\n",
    "\n",
    "   Devuelve:\n",
    "      dict\n",
    "         Diccionario donde las claves son los nodos y los valores son tuplas (distancia mínima, predecesor).\n",
    "         Ejemplo: {'A': (0, None), 'B': (12, 'A'), ...}\n",
    "   \"\"\"\n",
    "   pass"
   ]
  },
  {
   "cell_type": "code",
   "execution_count": null,
   "id": "e795efc3-17a6-48c7-8d23-87a02b6d682b",
   "metadata": {
    "editable": true,
    "slideshow": {
     "slide_type": ""
    },
    "tags": []
   },
   "outputs": [],
   "source": [
    "import networkx as nx\n",
    "import matplotlib.pyplot as plt\n",
    "\n",
    "grafo = nx.DiGraph()\n",
    "grafo.add_weighted_edges_from([\n",
    "    ('1', '2', 3),\n",
    "    ('1', '3', 8),\n",
    "    ('1', '4', 4),\n",
    "    ('2', '4', -10),\n",
    "    ('2', '5', 5),\n",
    "    ('3', '2', 4),\n",
    "    ('4', '5', 6),\n",
    "    ('5', '3', 5),\n",
    "])\n",
    "\n",
    "origen = '1'\n",
    "distancias = camino_minimo_bellman_ford(grafo, origen)\n",
    "print(distancias)\n",
    "\n",
    "node_colors = ['orange' if n == origen else 'lightblue' for n in grafo.nodes]\n",
    "pos = nx.spring_layout(grafo, seed=42)  # Generate positions for current graph\n",
    "labels = nx.get_edge_attributes(grafo, 'weight')  # Get edge labels for current graph\n",
    "plt.figure(figsize=(5, 3))\n",
    "nx.draw(grafo, pos, with_labels=True, node_color=node_colors, node_size=400, arrows=True)\n",
    "nx.draw_networkx_edge_labels(grafo, pos, edge_labels=labels)\n",
    "plt.show()"
   ]
  },
  {
   "cell_type": "code",
   "execution_count": null,
   "id": "4f4510ee",
   "metadata": {},
   "outputs": [],
   "source": [
    "from unittest import TestCase, main\n",
    "\n",
    "class TestCaminoMinimoBellmanFord(TestCase):\n",
    "    def setUp(self):\n",
    "        self.grafo = nx.DiGraph()\n",
    "        self.grafo.add_weighted_edges_from([\n",
    "            ('1', '2', 3),\n",
    "            ('1', '3', 8),\n",
    "            ('1', '4', 4),\n",
    "            ('2', '4', -10),\n",
    "            ('2', '5', 5),\n",
    "            ('3', '2', 4),\n",
    "            ('4', '5', 6),\n",
    "            ('5', '3', 5),\n",
    "        ])\n",
    "        self.origen = '1'\n",
    "\n",
    "    def test_distancias_y_predecesores(self):\n",
    "        resultado = camino_minimo_bellman_ford(self.grafo, self.origen)\n",
    "        esperado = {\n",
    "            '1': (0, None),\n",
    "            '2': (3, '1'),\n",
    "            '3': (4, '5'),\n",
    "            '4': (-7, '2'),\n",
    "            '5': (-1, '4')\n",
    "        }\n",
    "        self.assertEqual(resultado, esperado)\n",
    "\n",
    "    def test_grafo_con_ciclo_negativo(self):\n",
    "        grafo = nx.DiGraph()\n",
    "        grafo.add_weighted_edges_from([\n",
    "            ('A', 'B', 1),\n",
    "            ('B', 'C', -2),\n",
    "            ('C', 'A', -2)\n",
    "        ])\n",
    "        with self.assertRaises(ValueError):\n",
    "            camino_minimo_bellman_ford(grafo, 'A')\n",
    "\n",
    "    def test_grafo_todas_aristas_negativas_sin_ciclo(self):\n",
    "        grafo = nx.DiGraph()\n",
    "        grafo.add_weighted_edges_from([\n",
    "            ('A', 'B', -1),\n",
    "            ('B', 'C', -2),\n",
    "            ('C', 'D', -3)\n",
    "        ])\n",
    "        esperado = {\n",
    "            'A': (0, None),\n",
    "            'B': (-1, 'A'),\n",
    "            'C': (-3, 'B'),\n",
    "            'D': (-6, 'C')\n",
    "        }\n",
    "        resultado = camino_minimo_bellman_ford(grafo, 'A')\n",
    "        self.assertEqual(resultado, esperado)\n",
    "\n",
    "    def test_grafo_lento_en_estabilizar(self):\n",
    "        grafo = nx.DiGraph()\n",
    "        grafo.add_weighted_edges_from([\n",
    "            ('A', 'B', 1),\n",
    "            ('B', 'C', 1),\n",
    "            ('C', 'D', 1),\n",
    "            ('D', 'E', 1),\n",
    "            ('A', 'E', 10)\n",
    "        ])\n",
    "        esperado = {\n",
    "            'A': (0, None),\n",
    "            'B': (1, 'A'),\n",
    "            'C': (2, 'B'),\n",
    "            'D': (3, 'C'),\n",
    "            'E': (4, 'D')\n",
    "        }\n",
    "        resultado = camino_minimo_bellman_ford(grafo, 'A')\n",
    "        self.assertEqual(resultado, esperado)\n",
    "\n",
    "test = main(argv=[\"\"], defaultTest=\"TestCaminoMinimoBellmanFord\", verbosity=2, exit=False)\n",
    "len(test.result.failures) == 0"
   ]
  },
  {
   "cell_type": "markdown",
   "id": "cebeeb0f-96a5-41ac-be68-ccef0373d88a",
   "metadata": {
    "editable": true,
    "slideshow": {
     "slide_type": ""
    },
    "tags": []
   },
   "source": [
    "### Ejercicio 6\n",
    "\n",
    "Escribir una función que reciba como parámetro la salida de las funciones del [Ejercicio 4](#Ejercicio-4) y del [Ejercicio 5](#Ejercicio-5) y un nodo destino, y devuelva el camino mínimo desde el nodo inicial al nodo destino."
   ]
  },
  {
   "cell_type": "code",
   "execution_count": null,
   "id": "ede26657",
   "metadata": {},
   "outputs": [],
   "source": [
    "def recuperar_camino(distancias, destino):\n",
    "    \"\"\"\n",
    "    Recupera el camino mínimo desde el nodo inicial al nodo destino usando el diccionario de distancias y predecesores.\n",
    "\n",
    "    Parámetros:\n",
    "        distancias: dict\n",
    "            Diccionario donde las claves son los nodos y los valores son tuplas (distancia mínima, predecesor).\n",
    "            Ejemplo: {'A': (0, None), 'B': (12, 'A'), ...}\n",
    "        destino: nodo\n",
    "            Nodo destino al que se desea recuperar el camino.\n",
    "\n",
    "    Devuelve:\n",
    "        list\n",
    "            Lista de nodos que conforman el camino mínimo desde el nodo inicial al destino.\n",
    "            Si el destino es inalcanzable, devuelve una lista con solo el destino.\n",
    "    \"\"\"\n",
    "    pass"
   ]
  },
  {
   "cell_type": "code",
   "execution_count": null,
   "id": "bb22d93c-1f2f-40dd-a2ff-470061f8e0bc",
   "metadata": {
    "editable": true,
    "slideshow": {
     "slide_type": ""
    },
    "tags": []
   },
   "outputs": [],
   "source": [
    "import networkx as nx\n",
    "import matplotlib.pyplot as plt\n",
    "\n",
    "grafo = nx.DiGraph()\n",
    "grafo.add_weighted_edges_from([\n",
    "    ('1', '2', 3),\n",
    "    ('1', '3', 8),\n",
    "    ('1', '4', 4),\n",
    "    ('2', '4', -10),\n",
    "    ('2', '5', 5),\n",
    "    ('3', '2', 4),\n",
    "    ('4', '5', 6),\n",
    "    ('5', '3', 5),\n",
    "])\n",
    "\n",
    "origen = '1'\n",
    "\n",
    "node_colors = ['orange' if n == origen else 'lightblue' for n in grafo.nodes]\n",
    "pos = nx.spring_layout(grafo, seed=42)  # Generate positions for current graph\n",
    "labels = nx.get_edge_attributes(grafo, 'weight')  # Get edge labels for current graph\n",
    "plt.figure(figsize=(5, 3))\n",
    "nx.draw(grafo, pos, with_labels=True, node_color=node_colors, node_size=400, arrows=True)\n",
    "nx.draw_networkx_edge_labels(grafo, pos, edge_labels=labels)\n",
    "plt.show()\n",
    "\n",
    "distancias = camino_minimo_bellman_ford(grafo, origen)\n",
    "recuperar_camino(distancias, '4')"
   ]
  },
  {
   "cell_type": "code",
   "execution_count": null,
   "id": "d71b805f",
   "metadata": {},
   "outputs": [],
   "source": [
    "from unittest import TestCase, main\n",
    "class TestRecuperarCamino(TestCase):\n",
    "    def setUp(self):\n",
    "        self.grafo = nx.DiGraph()\n",
    "        self.grafo.add_weighted_edges_from([\n",
    "            ('A', 'B', 1),\n",
    "            ('A', 'C', 1),\n",
    "            ('B', 'D', 1),\n",
    "            ('C', 'D', 1),\n",
    "            ('D', 'E', 1)\n",
    "        ])\n",
    "        self.origen = 'A'\n",
    "\n",
    "    def test_camino_dijkstra_simple(self):\n",
    "        distancias = camino_minimo_dijkstra(self.grafo, self.origen)\n",
    "        camino = recuperar_camino(distancias, 'E')\n",
    "        self.assertIn(camino, [['A', 'B', 'D', 'E'], ['A', 'C', 'D', 'E']])\n",
    "\n",
    "    def test_camino_bellman_ford_simple(self):\n",
    "        distancias = camino_minimo_bellman_ford(self.grafo, self.origen)\n",
    "        camino = recuperar_camino(distancias, 'E')\n",
    "        self.assertIn(camino, [['A', 'B', 'D', 'E'], ['A', 'C', 'D', 'E']])\n",
    "\n",
    "    def test_nodo_inalcanzable_dijkstra(self):\n",
    "        self.grafo.add_node('Z')\n",
    "        distancias = camino_minimo_dijkstra(self.grafo, self.origen)\n",
    "        camino = recuperar_camino(distancias, 'Z')\n",
    "        self.assertEqual(camino, ['Z'])\n",
    "\n",
    "    def test_nodo_inalcanzable_bellman_ford(self):\n",
    "        self.grafo.add_node('Z')\n",
    "        distancias = camino_minimo_bellman_ford(self.grafo, self.origen)\n",
    "        camino = recuperar_camino(distancias, 'Z')\n",
    "        self.assertEqual(camino, ['Z'])\n",
    "\n",
    "    def test_camino_grafo_ejemplo_bellman_ford(self):\n",
    "        camino = recuperar_camino(distancias, '4')\n",
    "        self.assertEqual(camino, ['1', '2', '4'])\n",
    "\n",
    "test = main(argv=[\"\"], defaultTest=\"TestRecuperarCamino\", verbosity=2, exit=False)\n",
    "len(test.result.failures) == 0"
   ]
  },
  {
   "cell_type": "markdown",
   "id": "b35a99f9-a765-4919-810f-c0e229f03a56",
   "metadata": {},
   "source": [
    "### Ejercicio 7\n",
    "\n",
    "Escribir una variante del algoritmo de Dijkstra que, si hay varios caminos mínimos entre el nodo inicial y un nodo destino, elija el que atraviesa la menor cantidad de nodos intermedios."
   ]
  },
  {
   "cell_type": "code",
   "execution_count": null,
   "id": "61febfc2",
   "metadata": {},
   "outputs": [],
   "source": [
    "import networkx as nx\n",
    "import heapq\n",
    "\n",
    "def camino_minimo_dijkstra_2(grafo, origen):\n",
    "    \"\"\"\n",
    "    Variante del algoritmo de Dijkstra que, si hay varios caminos mínimos entre el nodo inicial y un nodo destino,\n",
    "    elige el que atraviesa la menor cantidad de nodos intermedios.\n",
    "\n",
    "    Parámetros:\n",
    "        grafo: networkx.DiGraph\n",
    "            Grafo dirigido con pesos en las aristas.\n",
    "        origen: nodo\n",
    "            Nodo inicial desde el cual se calculan las distancias.\n",
    "\n",
    "    Devuelve:\n",
    "        dict\n",
    "            Diccionario donde las claves son los nodos y los valores son tuplas (distancia mínima, predecesor).\n",
    "            Ejemplo: {'A': (0, None), 'B': (1, 'A'), ...}\n",
    "    \"\"\"\n",
    "    pass"
   ]
  },
  {
   "cell_type": "code",
   "execution_count": null,
   "id": "25906465",
   "metadata": {},
   "outputs": [],
   "source": [
    "import networkx as nx\n",
    "import matplotlib.pyplot as plt\n",
    "\n",
    "# Grafo con varios caminos mínimos de diferente cantidad de aristas\n",
    "grafo = nx.DiGraph()\n",
    "grafo.add_weighted_edges_from([\n",
    "    ('A', 'B', 1),\n",
    "    ('A', 'C', 1),\n",
    "    ('B', 'D', 1),\n",
    "    ('C', 'D', 1),\n",
    "    ('A', 'D', 2)  # Camino directo con mismo peso que los caminos A->B->D y A->C->D\n",
    "])\n",
    "\n",
    "origen = 'A'\n",
    "resultado = camino_minimo_dijkstra_2(grafo, origen)\n",
    "print(\"Distancias y predecesores:\", resultado)\n",
    "print(\"Camino mínimo a D:\", recuperar_camino(resultado, 'D'))\n",
    "\n",
    "node_colors = ['orange' if n == origen else 'lightblue' for n in grafo.nodes]\n",
    "pos = nx.spring_layout(grafo, seed=42)  # Generate positions for current graph\n",
    "labels = nx.get_edge_attributes(grafo, 'weight')  # Get edge labels for current graph\n",
    "plt.figure(figsize=(5, 3))\n",
    "nx.draw(grafo, pos, with_labels=True, node_color=node_colors, node_size=400, arrows=True)\n",
    "nx.draw_networkx_edge_labels(grafo, pos, edge_labels=labels)\n",
    "plt.show()"
   ]
  },
  {
   "cell_type": "code",
   "execution_count": null,
   "id": "91a69d65",
   "metadata": {},
   "outputs": [],
   "source": [
    "from unittest import TestCase, main\n",
    "\n",
    "class TestCaminoMinimoDijkstra2(TestCase):\n",
    "    def test_nodos_inalcanzables(self):\n",
    "        g = nx.DiGraph()\n",
    "        g.add_weighted_edges_from([\n",
    "            ('A', 'B', 1),\n",
    "            ('C', 'D', 2)\n",
    "        ])\n",
    "        res = camino_minimo_dijkstra_2(g, 'A')\n",
    "        self.assertEqual(res['B'][0], 1)\n",
    "        self.assertEqual(res['C'][0], float('inf'))\n",
    "        self.assertEqual(res['D'][0], float('inf'))\n",
    "\n",
    "    def test_varios_caminos_minimos_distinta_longitud(self):\n",
    "        g = nx.DiGraph()\n",
    "        g.add_weighted_edges_from([\n",
    "            ('A', 'B', 1),\n",
    "            ('A', 'C', 1),\n",
    "            ('B', 'D', 1),\n",
    "            ('C', 'D', 1),\n",
    "            ('A', 'D', 2)\n",
    "        ])\n",
    "        res = camino_minimo_dijkstra_2(g, 'A')\n",
    "        # El camino directo A->D debe ser elegido por tener menos nodos intermedios\n",
    "        self.assertEqual(res['D'][0], 2)\n",
    "        self.assertEqual(res['D'][1], 'A')\n",
    "\n",
    "    def test_varios_caminos_minimos_misma_longitud(self):\n",
    "        g = nx.DiGraph()\n",
    "        g.add_weighted_edges_from([\n",
    "            ('A', 'B', 1),\n",
    "            ('A', 'C', 1),\n",
    "            ('B', 'D', 1),\n",
    "            ('C', 'D', 1)\n",
    "        ])\n",
    "        res = camino_minimo_dijkstra_2(g, 'A')\n",
    "        # Ambos caminos A->B->D y A->C->D tienen misma distancia y misma cantidad de nodos\n",
    "        self.assertEqual(res['D'][0], 2)\n",
    "        self.assertIn(res['D'][1], ['B', 'C'])\n",
    "\n",
    "test = main(argv=[\"\"], defaultTest=\"TestCaminoMinimoDijkstra2\", verbosity=2, exit=False)\n",
    "len(test.result.failures) == 0"
   ]
  },
  {
   "cell_type": "markdown",
   "id": "32ef5b38",
   "metadata": {},
   "source": [
    "### Ejercicio 8\n",
    "\n",
    "Modificar el algoritmo de Dikstra para que en el caso que haya más de un camino mínimo hasta un vértice registre todos los caminos mínimos"
   ]
  },
  {
   "cell_type": "code",
   "execution_count": null,
   "id": "418680ec-ce5d-4b1f-8bfe-84e82095be31",
   "metadata": {},
   "outputs": [],
   "source": [
    "import networkx as nx\n",
    "import heapq\n",
    "\n",
    "def camino_minimo_dijkstra_3(grafo, origen):\n",
    "    \"\"\"\n",
    "    Calcula las distancias mínimas desde el nodo inicial a todos los demás nodos usando el algoritmo de Dijkstra,\n",
    "    registrando todos los caminos mínimos posibles para cada nodo.\n",
    "\n",
    "    Parámetros:\n",
    "        grafo: networkx.DiGraph\n",
    "            Grafo dirigido con pesos en las aristas.\n",
    "        origen: nodo\n",
    "            Nodo inicial desde el cual se calculan las distancias.\n",
    "\n",
    "    Devuelve:\n",
    "        dict\n",
    "            Diccionario donde las claves son los nodos y los valores son tuplas (distancia mínima, lista de caminos mínimos).\n",
    "            Ejemplo: {'A': (0, [[A]]), 'B': (1, [[A, B], [A, C, B]]), ...}\n",
    "    \"\"\"\n",
    "    pass"
   ]
  },
  {
   "cell_type": "code",
   "execution_count": null,
   "id": "40c40ecc",
   "metadata": {},
   "outputs": [],
   "source": [
    "import networkx as nx\n",
    "import matplotlib.pyplot as plt\n",
    "\n",
    "grafo = nx.DiGraph()\n",
    "grafo.add_weighted_edges_from([\n",
    "    ('A', 'B', 1),\n",
    "    ('A', 'C', 1),\n",
    "    ('A', 'D', 2),\n",
    "    ('B', 'D', 1),\n",
    "    ('C', 'D', 1)\n",
    "])\n",
    "\n",
    "origen = 'A'\n",
    "resultado = camino_minimo_dijkstra_3(grafo, origen)\n",
    "print(resultado)\n",
    "\n",
    "node_colors = ['orange' if n == origen else 'lightblue' for n in grafo.nodes]\n",
    "pos = nx.spring_layout(grafo, seed=42)  # Generate positions for current graph\n",
    "labels = nx.get_edge_attributes(grafo, 'weight')  # Get edge labels for current graph\n",
    "plt.figure(figsize=(5, 3))\n",
    "nx.draw(grafo, pos, with_labels=True, node_color=node_colors, node_size=400, arrows=True)\n",
    "nx.draw_networkx_edge_labels(grafo, pos, edge_labels=labels)\n",
    "plt.show()"
   ]
  },
  {
   "cell_type": "code",
   "execution_count": null,
   "id": "f905ccba",
   "metadata": {},
   "outputs": [],
   "source": [
    "from unittest import TestCase, main\n",
    "\n",
    "class TestCaminoMinimoDijkstra3(TestCase):\n",
    "    def test_unico_camino(self):\n",
    "        g = nx.DiGraph()\n",
    "        g.add_weighted_edges_from([\n",
    "            ('A', 'B', 1),\n",
    "            ('B', 'C', 2),\n",
    "            ('C', 'D', 3)\n",
    "        ])\n",
    "        res = camino_minimo_dijkstra_3(g, 'A')\n",
    "        self.assertEqual(res['D'][0], 6)\n",
    "        self.assertEqual(res['D'][1], [['A', 'B', 'C', 'D']])\n",
    "\n",
    "    def test_multiples_caminos(self):\n",
    "        g = nx.DiGraph()\n",
    "        g.add_weighted_edges_from([\n",
    "            ('A', 'B', 1),\n",
    "            ('A', 'C', 1),\n",
    "            ('B', 'D', 1),\n",
    "            ('C', 'D', 1),\n",
    "            ('A', 'D', 2)\n",
    "        ])\n",
    "        res = camino_minimo_dijkstra_3(g, 'A')\n",
    "        self.assertEqual(res['D'][0], 2)\n",
    "        caminos = res['D'][1]\n",
    "        esperados = [\n",
    "            ['A', 'B', 'D'],\n",
    "            ['A', 'C', 'D'],\n",
    "            ['A', 'D']\n",
    "        ]\n",
    "        for esperado in esperados:\n",
    "            self.assertIn(esperado, caminos)\n",
    "        self.assertEqual(len(caminos), 3)\n",
    "\n",
    "    def test_grafo_desconectado(self):\n",
    "        g = nx.DiGraph()\n",
    "        g.add_weighted_edges_from([\n",
    "            ('A', 'B', 1),\n",
    "            ('C', 'D', 2)\n",
    "        ])\n",
    "        res = camino_minimo_dijkstra_3(g, 'A')\n",
    "        self.assertEqual(res['D'][0], float('inf'))\n",
    "        self.assertEqual(res['D'][1], [])\n",
    "\n",
    "test = main(argv=[\"\"], defaultTest=\"TestCaminoMinimoDijkstra3\", verbosity=2, exit=False)\n",
    "len(test.result.failures) == 0"
   ]
  }
 ],
 "metadata": {
  "kernelspec": {
   "display_name": "edd",
   "language": "python",
   "name": "python3"
  },
  "language_info": {
   "codemirror_mode": {
    "name": "ipython",
    "version": 3
   },
   "file_extension": ".py",
   "mimetype": "text/x-python",
   "name": "python",
   "nbconvert_exporter": "python",
   "pygments_lexer": "ipython3",
   "version": "3.13.3"
  },
  "rise": {
   "start_slideshow_at": "beginning"
  }
 },
 "nbformat": 4,
 "nbformat_minor": 5
}
