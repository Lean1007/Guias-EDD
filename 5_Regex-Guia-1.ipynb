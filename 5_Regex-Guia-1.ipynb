{
 "cells": [
  {
   "cell_type": "markdown",
   "metadata": {
    "editable": true,
    "id": "6duqwayt7FVp",
    "slideshow": {
     "slide_type": ""
    },
    "tags": []
   },
   "source": [
    "<p style=\"text-align: center\">\n",
    "    <img src=\"data:image/svg+xml,%3Csvg%20version%3D%221.2%22%20baseProfile%3D%22tiny%22%20xmlns%3D%22http%3A%2F%2Fwww.w3.org%2F2000%2Fsvg%22%20viewBox%3D%220%200%20136.5%2058%22%20height%3D%2250%22%20overflow%3D%22visible%22%20xml%3Aspace%3D%22preserve%22%3E%3Cg%20fill%3D%22%23141819%22%3E%3Cpath%20d%3D%22M0%2033.4h1v6.3c0%201.1.5%201.7%201.7%201.7s1.7-.5%201.7-1.7v-6.3h1v6.3c0%201.8-1%202.5-2.7%202.5-1.7.1-2.7-.7-2.7-2.5v-6.3zM8.1%2042.2v-8.8h1.3l3.2%207h.1v-7h1v8.8h-1.3l-3.3-7.3H9v7.3zM16.5%2033.4h1v8.7h-1zM24.4%2033.4h1l-2.3%208.8h-1.4l-2.3-8.8h1.1l1.9%207.5h.1zM27.4%2042.2v-8.8h4.7v.9h-3.7v2.9h3.2v.9h-3.2v3.2h3.9v.9zM35.3%2037.6h1.8c1.1%200%201.6-.5%201.6-1.6s-.5-1.6-1.6-1.6h-1.8v3.2zm0%204.6h-1v-8.7h3c1.6%200%202.5.9%202.5%202.5%200%201.3-.6%202-1.2%202.3l1.3%203.9h-1.1l-1.2-3.6h-2.3v3.6zM46.7%2035.6c-.1-1-.6-1.4-1.7-1.4-1%200-1.7.4-1.7%201.4%200%201%20.8%201.2%201.9%201.6%201.4.4%202.7.9%202.7%202.6%200%201.7-1.1%202.5-2.8%202.5-1.8%200-2.8-.8-2.9-2.5l1-.1c.1%201.2.7%201.7%201.9%201.7%201.1%200%201.8-.5%201.8-1.5s-.6-1.3-1.9-1.7c-1.4-.4-2.6-.8-2.6-2.5s1.1-2.4%202.8-2.4c1.6%200%202.6.6%202.8%202.2l-1.3.1zM50.2%2033.4h1v8.7h-1zM55%2041.3h1.9c1%200%201.7-.5%201.7-1.5v-4c0-1-.6-1.5-1.7-1.5H55v7zm-1-7.9h2.8c1.8%200%202.8.7%202.8%202.5v3.7c0%201.8-1%202.5-2.8%202.5H54v-8.7zM63.2%2039.1H66l-1.3-4.6h-.1l-1.4%204.6zm-.8%203.1h-1.1l2.6-8.7h1.5l2.6%208.7h-1.1l-.6-2.2H63l-.6%202.2zM70.9%2041.3h1.9c1%200%201.7-.5%201.7-1.5v-4c0-1-.6-1.5-1.7-1.5h-1.9v7zm-1.1-7.9h2.8c1.8%200%202.8.7%202.8%202.5v3.7c0%201.8-1%202.5-2.8%202.5h-2.8v-8.7zM81.3%2042.2v-8.8h1.3l3.2%207h.1v-7h1v8.8h-1.3l-3.3-7.3h-.1v7.3zM90.7%2039.1h2.8l-1.3-4.6H92l-1.3%204.6zm-.9%203.1h-1.1l2.6-8.7h1.5l2.6%208.7h-1.1l-.6-2.2h-3.3l-.6%202.2zM101.2%2036.1v-.4c0-1.1-.5-1.5-1.7-1.5-1.1%200-1.8.4-1.8%201.5v4.1c0%201.1.6%201.5%201.8%201.5%201.1%200%201.7-.5%201.7-1.5v-.4l1%20.1v.1c0%201.8-.9%202.6-2.7%202.6-1.8%200-2.8-.7-2.8-2.5v-4c0-1.8%201-2.5%202.8-2.5%201.8%200%202.7.7%202.7%202.6v.2l-1%20.1zM104.7%2033.4h1v8.7h-1zM109.3%2039.9c0%201.1.7%201.5%201.8%201.5s1.8-.4%201.8-1.5v-4.1c0-1.1-.7-1.5-1.8-1.5s-1.8.4-1.8%201.5v4.1zm-1-4.1c0-1.9%201-2.5%202.8-2.5%201.8%200%202.8.7%202.8%202.5v3.9c0%201.9-1%202.5-2.8%202.5-1.8%200-2.8-.7-2.8-2.5v-3.9zM116.5%2042.2v-8.8h1.3l3.2%207h.1v-7h.9v8.8h-1.2l-3.3-7.3h-.1v7.3zM125.9%2039.1h2.8l-1.3-4.6h-.1l-1.4%204.6zm-.9%203.1h-1.1l2.6-8.7h1.5l2.6%208.7h-1.1l-.6-2.1h-3.3l-.6%202.1zM132.5%2042.2v-8.8h1v7.9h3v.9zM1.2%2057h1.9c1%200%201.7-.5%201.7-1.5v-4c0-1-.6-1.5-1.7-1.5H1.2v7zM.1%2049.1H3c1.8%200%202.8.7%202.8%202.5v3.7c0%201.8-1%202.5-2.8%202.5H.1v-8.7zM8.3%2057.9v-8.8H13v.9H9.3v2.9h3.3v.9H9.3V57h3.9v.9zM19.7%2050.1h-2.1v-1h5.1v1h-2v7.8h-1zM25.6%2053.3h1.8c1.1%200%201.6-.5%201.6-1.6s-.5-1.6-1.6-1.6h-1.8v3.2zm0%204.6h-1v-8.7h3c1.6%200%202.5.9%202.5%202.5%200%201.3-.6%202-1.2%202.3l1.3%203.9h-1.1l-1.2-3.6h-2.3v3.6zM32.8%2057.9v-8.8h4.7v.9h-3.7v2.9H37v.9h-3.2V57h3.9v.9zM44%2051.3c-.1-1-.6-1.4-1.7-1.4-1%200-1.7.4-1.7%201.4%200%201%20.8%201.2%201.9%201.6%201.4.4%202.7.9%202.7%202.6%200%201.7-1.1%202.5-2.8%202.5-1.8%200-2.8-.8-2.9-2.5l1-.1c.1%201.2.7%201.7%201.9%201.7%201.1%200%201.8-.5%201.8-1.5s-.6-1.3-1.9-1.7c-1.4-.4-2.6-.8-2.6-2.5s1.1-2.4%202.8-2.4c1.6%200%202.6.6%202.8%202.2l-1.3.1zM51.8%2057h1.9c1.1%200%201.7-.5%201.7-1.5v-4c0-1-.6-1.5-1.7-1.5h-1.9v7zm-1-7.9h2.8c1.8%200%202.8.7%202.8%202.5v3.7c0%201.8-1%202.5-2.8%202.5h-2.8v-8.7zM58.9%2057.9v-8.8h4.7v.9h-3.7v2.9h3.3v.9h-3.3V57h3.9v.9zM69.2%2057.9v-8.8h4.4v.9h-3.4v2.9h3v.9h-3v4.1zM75.6%2057.9v-8.8h4.7v.9h-3.7v2.9h3.2v.9h-3.2V57h3.9v.9zM83.5%2057h2.1c1.1%200%201.7-.6%201.7-1.6%200-1.1-.6-1.6-1.7-1.6h-2V57zm0-4.1h2c1%200%201.5-.5%201.5-1.4%200-1-.5-1.4-1.5-1.4h-2v2.8zm-1-3.8h3.3c1.6%200%202.3.7%202.3%202.2%200%201-.3%201.6-1%201.9v.1c.6.2%201.2.9%201.2%202.1%200%201.5-.7%202.4-2.4%202.4h-3.4v-8.7zM91.9%2053.3h1.8c1.1%200%201.6-.5%201.6-1.6s-.5-1.6-1.6-1.6h-1.8v3.2zm0%204.6h-1v-8.7h3c1.6%200%202.5.9%202.5%202.5%200%201.3-.6%202-1.2%202.3l1.3%203.9h-1.1l-1.2-3.6h-2.3v3.6zM99%2057.9v-8.8h4.7v.9H100v2.9h3.3v.9H100V57h3.9v.9zM107%2053.3h1.8c1.1%200%201.6-.5%201.6-1.6s-.5-1.6-1.6-1.6H107v3.2zm0%204.6h-1v-8.7h3c1.6%200%202.5.9%202.5%202.5%200%201.3-.6%202-1.2%202.3l1.3%203.9h-1.1l-1.2-3.6H107v3.6zM114.9%2055.6c0%201.1.7%201.5%201.8%201.5s1.8-.4%201.8-1.5v-4.1c0-1.1-.7-1.5-1.8-1.5s-1.8.4-1.8%201.5v4.1zm-1-4.1c0-1.9%201-2.5%202.8-2.5%201.8%200%202.8.7%202.8%202.5v3.9c0%201.9-1%202.5-2.8%202.5-1.8%200-2.8-.7-2.8-2.5v-3.9zM0%2023.7h96.4v3.6H0zM69.1%2017.5V0h11.5v2.9h-8V7h7.3v2.9h-7.3v4.7H81v2.9H69.1zm16.2%200V0h11v2.9h-7.6V7h6.9v2.9h-6.9v7.6h-3.4zm-30.8%200H51V0h7.2C62.1%200%2064%201.8%2064%205.3c0%202.8-1.4%204.1-2.7%204.6l2.9%207.6h-3.8l-2.4-7h-3.5v7zm0-9.8h2.9c2%200%203-.6%203-2.5s-1-2.5-3-2.5h-2.9v5zM39.9%202.9h-4.4V0h12.4v2.9h-4.4v14.6H40V2.9zM18.8%2017.5V0h4.1l5.8%2011.7h.2V0h3.4v17.5h-4L22.2%205.3H22v12.2h-3.2zM.1%200h3.5v12.1c0%202%201%202.8%203%202.8s3-.8%203-2.8V0h3.5v12.1c0%203.8-2.3%205.7-6.5%205.7S.1%2015.9.1%2012.1V0z%22%2F%3E%3C%2Fg%3E%3C%2Fsvg%3E\" />\n",
    "</p>\n",
    "\n",
    "<h2 style=\"text-align: center\">Estructura de Datos</h2>\n",
    "<h3 style=\"text-align: center\">Expresiones Regulares</h3>\n",
    "<h3 style=\"text-align: center\">Guía de Ejercicios</h3>"
   ]
  },
  {
   "cell_type": "code",
   "execution_count": null,
   "metadata": {},
   "outputs": [],
   "source": [
    "\"\"\"Funciones auxiliares para las guías de expresiones regulares.\n",
    "\n",
    "No es necesario entenderlas ni modificarlas.\n",
    "\"\"\"\n",
    "\n",
    "import re\n",
    "import urllib.parse\n",
    "\n",
    "\n",
    "def generar_regex101_link(regex, tests):\n",
    "    \"\"\"\n",
    "    Genera un enlace a regex101.com con la expresión regular y las cadenas de prueba proporcionadas.\n",
    "\n",
    "    :param regex: La expresión regular en formato string.\n",
    "    :param pruebas: Una lista de cadenas de prueba.\n",
    "    :return: Un enlace a regex101.com que incluye la expresión regular y las cadenas de prueba.\n",
    "    \"\"\"\n",
    "    encoded_regex = urllib.parse.quote(regex)\n",
    "    encoded_test_string = urllib.parse.quote(\"\\n\".join(tests))\n",
    "    url = f\"https://regex101.com/?regex={encoded_regex}&testString={encoded_test_string}&flags=gm&flavor=python\"\n",
    "    print(f\"\\nAbrir el enlace para ver los resultados: {url}\")\n",
    "\n",
    "\n",
    "def ejecutar_regex(regex, tests):\n",
    "    \"\"\"\n",
    "    Ejecuta la expresión regular sobre las cadenas de prueba y muestra los resultados.\n",
    "\n",
    "    :param regex: La expresión regular en formato string.\n",
    "    :param pruebas: Una lista de cadenas de prueba.\n",
    "    \"\"\"\n",
    "    pattern = re.compile(regex)\n",
    "    for test in tests:\n",
    "        match = pattern.fullmatch(test)\n",
    "        print(f'✓ \"{test}\"' if match else f'✗ \"{test}\"')"
   ]
  },
  {
   "cell_type": "markdown",
   "metadata": {
    "id": "dsqsqZvE7FVu"
   },
   "source": [
    "### Ejercicio 1\n",
    "\n",
    "Escribir expresiones regulares sobre números binarios que acepten los siguientes números:\n",
    "\n",
    "1. terminados en `01`;\n",
    "2. contienen una cantidad par de `0`’s;\n",
    "3. cada `0` está seguido de al menos un `1` (si no tiene `0`’s, también es válido)."
   ]
  },
  {
   "cell_type": "code",
   "execution_count": null,
   "metadata": {
    "editable": true,
    "slideshow": {
     "slide_type": ""
    },
    "tags": []
   },
   "outputs": [],
   "source": [
    "## Números binarios terminados en 01\n",
    "\n",
    "regex = r\"\"  ### Completar aquí ###\n",
    "\n",
    "tests = [\"1101\", \"100\", \"1010\", \"111\", \"0001\", \"01\", \"1\", \"0\", \"\", \"1234501\"]\n",
    "\n",
    "ejecutar_regex(regex, tests)\n",
    "\n",
    "generar_regex101_link(regex, tests)"
   ]
  },
  {
   "cell_type": "code",
   "execution_count": null,
   "metadata": {
    "editable": true,
    "slideshow": {
     "slide_type": ""
    },
    "tags": []
   },
   "outputs": [],
   "source": [
    "## Números binarios que contienen una cantidad par de 0's\n",
    "\n",
    "regex = r\"\"  ### Completar aquí ###\n",
    "\n",
    "tests = [\"1101\", \"100\", \"1010\", \"111\", \"0001\", \"01\", \"1\", \"0\", \"\", \"12345001\"]\n",
    "\n",
    "ejecutar_regex(regex, tests)\n",
    "\n",
    "generar_regex101_link(regex, tests)"
   ]
  },
  {
   "cell_type": "code",
   "execution_count": null,
   "metadata": {
    "editable": true,
    "slideshow": {
     "slide_type": ""
    },
    "tags": []
   },
   "outputs": [],
   "source": [
    "## Números binarios donde cada 0 está seguido de al menos un 1 (si no tiene 0’s, también es válido)\n",
    "\n",
    "regex = r\"\"  ### Completar aquí ###\n",
    "\n",
    "tests = [\"1101\", \"100\", \"1010\", \"111\", \"0001\", \"01\", \"1\", \"0\", \"\", \"12345001\"]\n",
    "\n",
    "ejecutar_regex(regex, tests)\n",
    "\n",
    "generar_regex101_link(regex, tests)"
   ]
  },
  {
   "cell_type": "markdown",
   "metadata": {},
   "source": [
    "### Ejercicio 2\n",
    "\n",
    "Escribir una expresión regular que acepte horas con el siguiente formato: `HH:MM` donde `HH` puede estar entre `00` y `23` y `MM` entre `00` y `59`."
   ]
  },
  {
   "cell_type": "code",
   "execution_count": null,
   "metadata": {
    "editable": true,
    "slideshow": {
     "slide_type": ""
    },
    "tags": []
   },
   "outputs": [],
   "source": [
    "## HH:MM donde HH puede estar entre 00 y 23 y MM entre 00 y 59\n",
    "\n",
    "regex = r\"\"  ### Completar aquí ###\n",
    "\n",
    "tests = [\n",
    "    \"00:00\",\n",
    "    \"09:15\",\n",
    "    \"12:34\",\n",
    "    \"23:59\",\n",
    "    \"24:00\",\n",
    "    \"13:60\",\n",
    "    \"7:30\",\n",
    "    \"03:07\",\n",
    "    \"19:05\",\n",
    "    \"23:00\",\n",
    "    \"00:60\",\n",
    "    \"25:00\",\n",
    "    \"12:5\",\n",
    "    \"12:05\",\n",
    "    \"1:0\",\n",
    "    \"00:0\",\n",
    "    \"003:00\",\n",
    "    \"12:345\",\n",
    "    \"ab:cd\",\n",
    "]\n",
    "\n",
    "ejecutar_regex(regex, tests)\n",
    "\n",
    "generar_regex101_link(regex, tests)"
   ]
  },
  {
   "cell_type": "markdown",
   "metadata": {
    "id": "Pl5_mJlz7FVr"
   },
   "source": [
    "### Ejercicio 3\n",
    "\n",
    "Escribir una función en Python que valide si una cadena es un número de tarjeta de crédito válido. Para esto, la cadena debe cumplir con las siguientes condiciones:\n",
    "\n",
    "1. Debe contener exactamente 16 dígitos.\n",
    "2. Puede estar separada en grupos de 4 dígitos por espacios o guiones (opcional).\n",
    "3. No puede contener ningún otro carácter.\n",
    "4. El primer dígito debe ser 4, 5 o 6.\n",
    "\n",
    "Si el número es válido, debe devolver el número reemplazando los últimos 4 dígitos por asteriscos (*). Por ejemplo, si el número es `6234 5678 9012 3456`, debe devolver `6234 5678 9012 ****` y si es inválido debe devolver el número original con el mensaje `Número inválido`.\n"
   ]
  },
  {
   "cell_type": "code",
   "execution_count": null,
   "metadata": {},
   "outputs": [],
   "source": [
    "import re\n",
    "\n",
    "\n",
    "def validar_tarjeta(numero):\n",
    "    pass"
   ]
  },
  {
   "cell_type": "code",
   "execution_count": null,
   "metadata": {},
   "outputs": [],
   "source": [
    "from unittest import TestCase, main\n",
    "\n",
    "\n",
    "class TestValidarTarjeta(TestCase):\n",
    "\n",
    "    def test_valida_espacios(self):\n",
    "        self.assertEqual(validar_tarjeta(\"4123 4567 8901 2345\"), \"4123 4567 8901 ****\")\n",
    "\n",
    "    def test_valida_guiones(self):\n",
    "        self.assertEqual(validar_tarjeta(\"5123-4567-8901-2346\"), \"5123-4567-8901-****\")\n",
    "\n",
    "    def test_valida_sin_separador(self):\n",
    "        self.assertEqual(validar_tarjeta(\"6123456789012347\"), \"612345678901****\")\n",
    "\n",
    "    def test_invalida_menos_digitos(self):\n",
    "        self.assertIn(\"inválido\", validar_tarjeta(\"4123456789012\"))\n",
    "\n",
    "    def test_invalida_separadores_invalidos(self):\n",
    "        self.assertIn(\"inválido\", validar_tarjeta(\"5123 - 4567 - 8901 - 2346\"))\n",
    "\n",
    "    def test_invalida_primer_digito(self):\n",
    "        self.assertIn(\"inválido\", validar_tarjeta(\"1234 5678 9012 3456\"))\n",
    "\n",
    "    def test_invalida_caracteres_invalidos(self):\n",
    "        self.assertIn(\"inválido\", validar_tarjeta(\"4123a5678b9012c345\"))\n",
    "\n",
    "    def test_invalida_grupos_invalidos(self):\n",
    "        self.assertIn(\"inválido\", validar_tarjeta(\"4123 4567 8901 23456\"))\n",
    "\n",
    "    def test_valida_otro_correcto(self):\n",
    "        self.assertEqual(validar_tarjeta(\"4321 5678 9012 3456\"), \"4321 5678 9012 ****\")\n",
    "\n",
    "\n",
    "test = main(argv=[\"\"], defaultTest=\"TestValidarTarjeta\", verbosity=2, exit=False)\n",
    "len(test.result.failures) == 0"
   ]
  },
  {
   "cell_type": "markdown",
   "metadata": {
    "id": "dFa9s38_Vaev"
   },
   "source": [
    "### Ejercicio 4\n",
    "\n",
    "Escribir una función para validar passwords. Las password deben:\n",
    "\n",
    "- tener entre 6 y 10 caracteres.\n",
    "- debe incluir al menos una letra mínuscula.\n",
    "- debe incluir al menos una letra mayúscula.\n",
    "- debe incluir al menos un dígito.\n",
    "\n",
    "> Pista: se debe usar miradas alrededor\n"
   ]
  },
  {
   "cell_type": "code",
   "execution_count": null,
   "metadata": {},
   "outputs": [],
   "source": [
    "import re\n",
    "\n",
    "\n",
    "def validar_password(password):\n",
    "    pass"
   ]
  },
  {
   "cell_type": "code",
   "execution_count": null,
   "metadata": {},
   "outputs": [],
   "source": [
    "from unittest import TestCase, main\n",
    "\n",
    "\n",
    "class TestValidarPassword(TestCase):\n",
    "\n",
    "    def test_valida_correcto(self):\n",
    "        self.assertTrue(validar_password(\"Abc123\"))\n",
    "\n",
    "    def test_valida_maximo(self):\n",
    "        self.assertTrue(validar_password(\"A1b2C3d4E5\"))\n",
    "\n",
    "    def test_invalida_menos_caracteres(self):\n",
    "        self.assertFalse(validar_password(\"Ab12\"))\n",
    "\n",
    "    def test_invalida_mas_caracteres(self):\n",
    "        self.assertFalse(validar_password(\"Abcdef12345\"))\n",
    "\n",
    "    def test_invalida_sin_mayuscula(self):\n",
    "        self.assertFalse(validar_password(\"abcdef1\"))\n",
    "\n",
    "    def test_invalida_sin_minuscula(self):\n",
    "        self.assertFalse(validar_password(\"ABCDEF1\"))\n",
    "\n",
    "    def test_invalida_sin_digito(self):\n",
    "        self.assertFalse(validar_password(\"AbcdefgH\"))\n",
    "\n",
    "    def test_valida_con_guion_bajo(self):\n",
    "        self.assertTrue(validar_password(\"Abc_12\"))\n",
    "\n",
    "\n",
    "test = main(argv=[\"\"], defaultTest=\"TestValidarPassword\", verbosity=2, exit=False)\n",
    "len(test.result.failures) == 0"
   ]
  },
  {
   "cell_type": "markdown",
   "metadata": {
    "id": "0Fu94p8K7FVs"
   },
   "source": [
    "### Ejercicio 5\n",
    "\n",
    "Escribir una función que reciba un bloque de código y reemplace todos los identificadores en Camel Case por identificadores en snake_case. Por ejemplo, si el bloque de código es:\n",
    "\n",
    "```python\n",
    "def unaFuncion():\n",
    "    miVariable = 5\n",
    "    otraVariable = miVariable + 10\n",
    "    return otraVariable\n",
    "``` \n",
    "La función debe devolver:\n",
    "\n",
    "```python\n",
    "def una_funcion():\n",
    "    mi_variable = 5\n",
    "    otra_variable = mi_variable + 10\n",
    "    return otra_variable\n",
    "```"
   ]
  },
  {
   "cell_type": "code",
   "execution_count": null,
   "metadata": {
    "id": "iKCpUaYSV-Gr"
   },
   "outputs": [],
   "source": [
    "import re\n",
    "\n",
    "\n",
    "def camel_to_snake(code):\n",
    "    pass\n",
    "\n",
    "\n",
    "# Ejemplo de uso:\n",
    "codigo = \"\"\"def unaFuncion():\n",
    "    miVariable = 5\n",
    "    otraVariable = miVariable + 10\n",
    "    return otraVariable\n",
    "\"\"\"\n",
    "\n",
    "print(camel_to_snake(codigo))"
   ]
  },
  {
   "cell_type": "code",
   "execution_count": null,
   "metadata": {},
   "outputs": [],
   "source": [
    "from unittest import TestCase, main\n",
    "\n",
    "\n",
    "class TestCamelToSnake(TestCase):\n",
    "\n",
    "    def test_funcion_simple(self):\n",
    "        code = \"def unaFuncion():\\n    return 1\"\n",
    "        esperado = \"def una_funcion():\\n    return 1\"\n",
    "        self.assertEqual(camel_to_snake(code), esperado)\n",
    "\n",
    "    def test_variables(self):\n",
    "        code = \"miVariable = 5\\notraVariable = miVariable + 10\"\n",
    "        esperado = \"mi_variable = 5\\notra_variable = mi_variable + 10\"\n",
    "        self.assertEqual(camel_to_snake(code), esperado)\n",
    "\n",
    "    def test_mixto(self):\n",
    "        code = \"def sumaTotal(a, b):\\n    resultadoFinal = a + b\\n    return resultadoFinal\"\n",
    "        esperado = \"def suma_total(a, b):\\n    resultado_final = a + b\\n    return resultado_final\"\n",
    "        self.assertEqual(camel_to_snake(code), esperado)\n",
    "\n",
    "    def test_no_camel(self):\n",
    "        code = \"def suma(a, b):\\n    return a + b\"\n",
    "        esperado = code\n",
    "        self.assertEqual(camel_to_snake(code), esperado)\n",
    "\n",
    "    def test_identificadores_consecutivos(self):\n",
    "        code = \"valorUno = 1\\nvalorDos = 2\\nvalorTres = valorUno + valorDos\"\n",
    "        esperado = \"valor_uno = 1\\nvalor_dos = 2\\nvalor_tres = valor_uno + valor_dos\"\n",
    "        self.assertEqual(camel_to_snake(code), esperado)\n",
    "\n",
    "\n",
    "test = main(argv=[\"\"], defaultTest=\"TestCamelToSnake\", verbosity=2, exit=False)\n",
    "len(test.result.failures) == 0"
   ]
  }
 ],
 "metadata": {
  "colab": {
   "collapsed_sections": [],
   "name": "Guia_10.ipynb",
   "provenance": []
  },
  "kernelspec": {
   "display_name": "Python 3 (ipykernel)",
   "language": "python",
   "name": "python3"
  },
  "language_info": {
   "codemirror_mode": {
    "name": "ipython",
    "version": 3
   },
   "file_extension": ".py",
   "mimetype": "text/x-python",
   "name": "python",
   "nbconvert_exporter": "python",
   "pygments_lexer": "ipython3",
   "version": "3.13.3"
  }
 },
 "nbformat": 4,
 "nbformat_minor": 4
}
