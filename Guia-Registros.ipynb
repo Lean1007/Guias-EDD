{
 "cells": [
  {
   "cell_type": "markdown",
   "id": "f05b7e77-8842-4ff5-bf9f-7433e68ccb68",
   "metadata": {
    "editable": false,
    "slideshow": {
     "slide_type": ""
    },
    "tags": []
   },
   "source": [
    "<p style=\"text-align: center\">\n",
    "    <img src=\"data:image/svg+xml,%3Csvg%20version%3D%221.2%22%20baseProfile%3D%22tiny%22%20xmlns%3D%22http%3A%2F%2Fwww.w3.org%2F2000%2Fsvg%22%20viewBox%3D%220%200%20136.5%2058%22%20height%3D%2250%22%20overflow%3D%22visible%22%20xml%3Aspace%3D%22preserve%22%3E%3Cg%20fill%3D%22%23141819%22%3E%3Cpath%20d%3D%22M0%2033.4h1v6.3c0%201.1.5%201.7%201.7%201.7s1.7-.5%201.7-1.7v-6.3h1v6.3c0%201.8-1%202.5-2.7%202.5-1.7.1-2.7-.7-2.7-2.5v-6.3zM8.1%2042.2v-8.8h1.3l3.2%207h.1v-7h1v8.8h-1.3l-3.3-7.3H9v7.3zM16.5%2033.4h1v8.7h-1zM24.4%2033.4h1l-2.3%208.8h-1.4l-2.3-8.8h1.1l1.9%207.5h.1zM27.4%2042.2v-8.8h4.7v.9h-3.7v2.9h3.2v.9h-3.2v3.2h3.9v.9zM35.3%2037.6h1.8c1.1%200%201.6-.5%201.6-1.6s-.5-1.6-1.6-1.6h-1.8v3.2zm0%204.6h-1v-8.7h3c1.6%200%202.5.9%202.5%202.5%200%201.3-.6%202-1.2%202.3l1.3%203.9h-1.1l-1.2-3.6h-2.3v3.6zM46.7%2035.6c-.1-1-.6-1.4-1.7-1.4-1%200-1.7.4-1.7%201.4%200%201%20.8%201.2%201.9%201.6%201.4.4%202.7.9%202.7%202.6%200%201.7-1.1%202.5-2.8%202.5-1.8%200-2.8-.8-2.9-2.5l1-.1c.1%201.2.7%201.7%201.9%201.7%201.1%200%201.8-.5%201.8-1.5s-.6-1.3-1.9-1.7c-1.4-.4-2.6-.8-2.6-2.5s1.1-2.4%202.8-2.4c1.6%200%202.6.6%202.8%202.2l-1.3.1zM50.2%2033.4h1v8.7h-1zM55%2041.3h1.9c1%200%201.7-.5%201.7-1.5v-4c0-1-.6-1.5-1.7-1.5H55v7zm-1-7.9h2.8c1.8%200%202.8.7%202.8%202.5v3.7c0%201.8-1%202.5-2.8%202.5H54v-8.7zM63.2%2039.1H66l-1.3-4.6h-.1l-1.4%204.6zm-.8%203.1h-1.1l2.6-8.7h1.5l2.6%208.7h-1.1l-.6-2.2H63l-.6%202.2zM70.9%2041.3h1.9c1%200%201.7-.5%201.7-1.5v-4c0-1-.6-1.5-1.7-1.5h-1.9v7zm-1.1-7.9h2.8c1.8%200%202.8.7%202.8%202.5v3.7c0%201.8-1%202.5-2.8%202.5h-2.8v-8.7zM81.3%2042.2v-8.8h1.3l3.2%207h.1v-7h1v8.8h-1.3l-3.3-7.3h-.1v7.3zM90.7%2039.1h2.8l-1.3-4.6H92l-1.3%204.6zm-.9%203.1h-1.1l2.6-8.7h1.5l2.6%208.7h-1.1l-.6-2.2h-3.3l-.6%202.2zM101.2%2036.1v-.4c0-1.1-.5-1.5-1.7-1.5-1.1%200-1.8.4-1.8%201.5v4.1c0%201.1.6%201.5%201.8%201.5%201.1%200%201.7-.5%201.7-1.5v-.4l1%20.1v.1c0%201.8-.9%202.6-2.7%202.6-1.8%200-2.8-.7-2.8-2.5v-4c0-1.8%201-2.5%202.8-2.5%201.8%200%202.7.7%202.7%202.6v.2l-1%20.1zM104.7%2033.4h1v8.7h-1zM109.3%2039.9c0%201.1.7%201.5%201.8%201.5s1.8-.4%201.8-1.5v-4.1c0-1.1-.7-1.5-1.8-1.5s-1.8.4-1.8%201.5v4.1zm-1-4.1c0-1.9%201-2.5%202.8-2.5%201.8%200%202.8.7%202.8%202.5v3.9c0%201.9-1%202.5-2.8%202.5-1.8%200-2.8-.7-2.8-2.5v-3.9zM116.5%2042.2v-8.8h1.3l3.2%207h.1v-7h.9v8.8h-1.2l-3.3-7.3h-.1v7.3zM125.9%2039.1h2.8l-1.3-4.6h-.1l-1.4%204.6zm-.9%203.1h-1.1l2.6-8.7h1.5l2.6%208.7h-1.1l-.6-2.1h-3.3l-.6%202.1zM132.5%2042.2v-8.8h1v7.9h3v.9zM1.2%2057h1.9c1%200%201.7-.5%201.7-1.5v-4c0-1-.6-1.5-1.7-1.5H1.2v7zM.1%2049.1H3c1.8%200%202.8.7%202.8%202.5v3.7c0%201.8-1%202.5-2.8%202.5H.1v-8.7zM8.3%2057.9v-8.8H13v.9H9.3v2.9h3.3v.9H9.3V57h3.9v.9zM19.7%2050.1h-2.1v-1h5.1v1h-2v7.8h-1zM25.6%2053.3h1.8c1.1%200%201.6-.5%201.6-1.6s-.5-1.6-1.6-1.6h-1.8v3.2zm0%204.6h-1v-8.7h3c1.6%200%202.5.9%202.5%202.5%200%201.3-.6%202-1.2%202.3l1.3%203.9h-1.1l-1.2-3.6h-2.3v3.6zM32.8%2057.9v-8.8h4.7v.9h-3.7v2.9H37v.9h-3.2V57h3.9v.9zM44%2051.3c-.1-1-.6-1.4-1.7-1.4-1%200-1.7.4-1.7%201.4%200%201%20.8%201.2%201.9%201.6%201.4.4%202.7.9%202.7%202.6%200%201.7-1.1%202.5-2.8%202.5-1.8%200-2.8-.8-2.9-2.5l1-.1c.1%201.2.7%201.7%201.9%201.7%201.1%200%201.8-.5%201.8-1.5s-.6-1.3-1.9-1.7c-1.4-.4-2.6-.8-2.6-2.5s1.1-2.4%202.8-2.4c1.6%200%202.6.6%202.8%202.2l-1.3.1zM51.8%2057h1.9c1.1%200%201.7-.5%201.7-1.5v-4c0-1-.6-1.5-1.7-1.5h-1.9v7zm-1-7.9h2.8c1.8%200%202.8.7%202.8%202.5v3.7c0%201.8-1%202.5-2.8%202.5h-2.8v-8.7zM58.9%2057.9v-8.8h4.7v.9h-3.7v2.9h3.3v.9h-3.3V57h3.9v.9zM69.2%2057.9v-8.8h4.4v.9h-3.4v2.9h3v.9h-3v4.1zM75.6%2057.9v-8.8h4.7v.9h-3.7v2.9h3.2v.9h-3.2V57h3.9v.9zM83.5%2057h2.1c1.1%200%201.7-.6%201.7-1.6%200-1.1-.6-1.6-1.7-1.6h-2V57zm0-4.1h2c1%200%201.5-.5%201.5-1.4%200-1-.5-1.4-1.5-1.4h-2v2.8zm-1-3.8h3.3c1.6%200%202.3.7%202.3%202.2%200%201-.3%201.6-1%201.9v.1c.6.2%201.2.9%201.2%202.1%200%201.5-.7%202.4-2.4%202.4h-3.4v-8.7zM91.9%2053.3h1.8c1.1%200%201.6-.5%201.6-1.6s-.5-1.6-1.6-1.6h-1.8v3.2zm0%204.6h-1v-8.7h3c1.6%200%202.5.9%202.5%202.5%200%201.3-.6%202-1.2%202.3l1.3%203.9h-1.1l-1.2-3.6h-2.3v3.6zM99%2057.9v-8.8h4.7v.9H100v2.9h3.3v.9H100V57h3.9v.9zM107%2053.3h1.8c1.1%200%201.6-.5%201.6-1.6s-.5-1.6-1.6-1.6H107v3.2zm0%204.6h-1v-8.7h3c1.6%200%202.5.9%202.5%202.5%200%201.3-.6%202-1.2%202.3l1.3%203.9h-1.1l-1.2-3.6H107v3.6zM114.9%2055.6c0%201.1.7%201.5%201.8%201.5s1.8-.4%201.8-1.5v-4.1c0-1.1-.7-1.5-1.8-1.5s-1.8.4-1.8%201.5v4.1zm-1-4.1c0-1.9%201-2.5%202.8-2.5%201.8%200%202.8.7%202.8%202.5v3.9c0%201.9-1%202.5-2.8%202.5-1.8%200-2.8-.7-2.8-2.5v-3.9zM0%2023.7h96.4v3.6H0zM69.1%2017.5V0h11.5v2.9h-8V7h7.3v2.9h-7.3v4.7H81v2.9H69.1zm16.2%200V0h11v2.9h-7.6V7h6.9v2.9h-6.9v7.6h-3.4zm-30.8%200H51V0h7.2C62.1%200%2064%201.8%2064%205.3c0%202.8-1.4%204.1-2.7%204.6l2.9%207.6h-3.8l-2.4-7h-3.5v7zm0-9.8h2.9c2%200%203-.6%203-2.5s-1-2.5-3-2.5h-2.9v5zM39.9%202.9h-4.4V0h12.4v2.9h-4.4v14.6H40V2.9zM18.8%2017.5V0h4.1l5.8%2011.7h.2V0h3.4v17.5h-4L22.2%205.3H22v12.2h-3.2zM.1%200h3.5v12.1c0%202%201%202.8%203%202.8s3-.8%203-2.8V0h3.5v12.1c0%203.8-2.3%205.7-6.5%205.7S.1%2015.9.1%2012.1V0z%22%2F%3E%3C%2Fg%3E%3C%2Fsvg%3E\" />\n",
    "</p>\n",
    "\n",
    "<h2 style=\"text-align: center\">Estructura de Datos</h2>\n",
    "<h3 style=\"text-align: center\">Registros de Datos</h3>\n",
    "<h3 style=\"text-align: center\">Guía de Ejercicios</h3>"
   ]
  },
  {
   "cell_type": "code",
   "execution_count": 1,
   "id": "23a75bf1",
   "metadata": {},
   "outputs": [],
   "source": [
    "\"\"\"Crea el directorio ./tmp si no existe y borra todo su contenido.\n",
    "Ejecutar esta celda antes de ejecutar cualquier otra para que los archivos que se generen se guarden en un entorno limpio.\n",
    "\"\"\"\n",
    "\n",
    "import os\n",
    "import shutil\n",
    "\n",
    "# Modificar la ubicación del directorio tmp de acuerdo a sus necesidades\n",
    "tmp_dir = '/home/martin/EDD/Guias/tmp'\n",
    "if not os.path.exists(tmp_dir):\n",
    "    os.makedirs(tmp_dir)\n",
    "else:\n",
    "    for filename in os.listdir(tmp_dir):\n",
    "        file_path = os.path.join(tmp_dir, filename)\n",
    "        if os.path.isfile(file_path) or os.path.islink(file_path):\n",
    "            os.unlink(file_path)\n",
    "        elif os.path.isdir(file_path):\n",
    "            shutil.rmtree(file_path)\n",
    "os.chdir(tmp_dir)"
   ]
  },
  {
   "cell_type": "markdown",
   "id": "a1532966-a8ae-4a74-8037-9bf833c759ab",
   "metadata": {
    "editable": true,
    "slideshow": {
     "slide_type": ""
    },
    "tags": []
   },
   "source": [
    "### Ejercicio 1\n",
    "\n",
    "Se desea almacenar la información de los alumnos de una universidad. De cada alumno se conoce su legajo, apellido, nombre, domicilio, localidad y telefono\n",
    "\n",
    "Se pide definir un registro que permita almacenar la información de un alumno para luego persistirla en un archivo binario. Definir claramente los campos, sus tipos y tamaños. Justificar las decisiones tomadas, teniendo en cuenta que se desea optimizar el espacio utilizado.\n",
    "\n",
    "Escribir un programa que defina la clase Alumnos, que tenga los métodos necesarios agregar datos de alumnos al archivo binario.\n",
    "\n",
    "> Pista: Tener en cuenta que los legajos pueden son números de hasta 6 dígitos sin signo y las cadenas de caracteres se pueden representar con enteros sin signos de 2 bytes. \n",
    "> Ver [`struct.pack`](https://docs.python.org/es/3.13/library/struct.html#struct.pack) para más información."
   ]
  },
  {
   "cell_type": "markdown",
   "id": "fe34302d-8217-4e79-98ed-ed4bab03f8bb",
   "metadata": {},
   "source": [
    "#### Resolución Ejercicio 1\n",
    "\n",
    "Completar"
   ]
  },
  {
   "cell_type": "code",
   "execution_count": null,
   "id": "838d4c0a",
   "metadata": {},
   "outputs": [],
   "source": [
    "#### Implementación del Ejercicio 1 (Archivo Binario)\n",
    "pass"
   ]
  },
  {
   "cell_type": "code",
   "execution_count": 2,
   "id": "62af4d07",
   "metadata": {},
   "outputs": [],
   "source": [
    "# Ejemplo de uso: solo guardar alumnos en el archivo binario\n",
    "alumnos = Alumnos('alumnos.bin')\n",
    "alumnos.agregar(123456, 'Pérez', 'Ana', 'Calle Falsa 123', 'Buenos Aires', '1122334455')\n",
    "alumnos.agregar(234567, 'García', 'Juan', 'Av. Siempreviva 742', 'Rosario', '1133445566')\n",
    "alumnos.agregar(345678, 'López', 'María', 'San Martín 1000', 'Córdoba', '1144556677')"
   ]
  },
  {
   "cell_type": "markdown",
   "id": "d3aedfa4",
   "metadata": {},
   "source": [
    "### Ejercicio 2\n",
    "Crear un iterador para recorrer los registros de alumnos almacenados en el archivo binario. El iterador debe permitir:\n",
    "1. Inicializar el recorrido desde el primer registro.\n",
    "2. Avanzar al siguiente registro.\n",
    "3. Verificar si se ha llegado al final del archivo.\n",
    "4. Obtener el registro actual.\n",
    "\n",
    "El iterador debe recibir directamente el path completo al archivo binario."
   ]
  },
  {
   "cell_type": "code",
   "execution_count": null,
   "id": "7ecedb19",
   "metadata": {},
   "outputs": [],
   "source": [
    "#### Resolución Ejercicio 2\n",
    "pass\n",
    " "
   ]
  },
  {
   "cell_type": "code",
   "execution_count": 4,
   "id": "3b2e5f82",
   "metadata": {},
   "outputs": [
    {
     "name": "stdout",
     "output_type": "stream",
     "text": [
      "{'legajo': 123456, 'apellido': 'Pérez', 'nombre': 'Ana', 'domicilio': 'Calle Falsa 123', 'localidad': 'Buenos Aires', 'telefono': '1122334455'}\n",
      "{'legajo': 234567, 'apellido': 'García', 'nombre': 'Juan', 'domicilio': 'Av. Siempreviva 742', 'localidad': 'Rosario', 'telefono': '1133445566'}\n",
      "{'legajo': 345678, 'apellido': 'López', 'nombre': 'María', 'domicilio': 'San Martín 1000', 'localidad': 'Córdoba', 'telefono': '1144556677'}\n"
     ]
    }
   ],
   "source": [
    "# Ejemplo de Uso del iterador\n",
    "# Supongamos que ya existe un archivo 'alumnos.bin' con registros escritos según el formato del ejercicio 1\n",
    "\n",
    "# Iterar y mostrar todos los alumnos\n",
    "it = AlumnoIterator('alumnos.bin')\n",
    "while not it.fin():\n",
    "    reg = it.actual()\n",
    "    if reg:\n",
    "        alumno = decodificar_registro(reg)\n",
    "        print(alumno)\n",
    "    it.avanzar()\n",
    "it.close()"
   ]
  },
  {
   "cell_type": "markdown",
   "id": "36f38e16",
   "metadata": {},
   "source": [
    "### Ejercicio 3\n",
    "\n",
    "Modificar el programa del ejercicio 1 para que permita buscar un alumno por su legajo. El programa debe leer el archivo binario y devolver la información del alumno si se encuentra, o un mensaje indicando que no se encontró si es el caso y debe utilizar el iterador del ejercicio 2 para recorrer los registros."
   ]
  },
  {
   "cell_type": "code",
   "execution_count": null,
   "id": "55d93456",
   "metadata": {},
   "outputs": [
    {
     "name": "stdout",
     "output_type": "stream",
     "text": [
      "Alumno encontrado: {'legajo': 234567, 'apellido': 'García', 'nombre': 'Juan', 'domicilio': 'Av. Siempreviva 742', 'localidad': 'Rosario', 'telefono': '1133445566'}\n"
     ]
    }
   ],
   "source": [
    "#### Resolución Ejercicio 3 \n",
    "pass"
   ]
  },
  {
   "cell_type": "code",
   "execution_count": 11,
   "id": "10eb1dc1",
   "metadata": {},
   "outputs": [
    {
     "name": "stdout",
     "output_type": "stream",
     "text": [
      "Alumno encontrado: {'legajo': 234567, 'apellido': 'García', 'nombre': 'Juan', 'domicilio': 'Av. Siempreviva 742', 'localidad': 'Rosario', 'telefono': '1133445566'}\n"
     ]
    }
   ],
   "source": [
    "# Ejemplo de uso:\n",
    "alumnos_bin = AlumnosBinBuscador('alumnos.bin')\n",
    "legajo_a_buscar = 234567\n",
    "alumno_encontrado = alumnos_bin.buscar_por_legajo(legajo_a_buscar)\n",
    "if alumno_encontrado:\n",
    "    print(f\"Alumno encontrado: {alumno_encontrado}\")\n",
    "else:\n",
    "    print(f\"No se encontró alumno con legajo {legajo_a_buscar}\")"
   ]
  },
  {
   "cell_type": "markdown",
   "id": "f04123bc-6310-4820-ae3a-dd62790b2947",
   "metadata": {
    "editable": true,
    "slideshow": {
     "slide_type": ""
    },
    "tags": []
   },
   "source": [
    "### Ejercicio 4\n",
    "\n",
    "Reescribir el programa del ejercicio 1 para que use json como formato de persistencia en lugar de un archivo binario. Justificar las decisiones tomadas en cuanto a la estructura del json y cómo se almacenan los datos. Incluir la búsqueda por legajo y el iterador para recorrer los registros."
   ]
  },
  {
   "cell_type": "code",
   "execution_count": null,
   "id": "4223244e",
   "metadata": {},
   "outputs": [],
   "source": [
    "#### Resolución Ejercicio 4\n",
    "\n",
    "pass"
   ]
  },
  {
   "cell_type": "code",
   "execution_count": 14,
   "id": "9ba878e3",
   "metadata": {},
   "outputs": [
    {
     "name": "stdout",
     "output_type": "stream",
     "text": [
      "Alumno encontrado: {'legajo': 200002, 'apellido': 'Fernández', 'nombre': 'Carlos', 'domicilio': 'Belgrano 456', 'localidad': 'San Isidro', 'telefono': '116667777'}\n",
      "{'legajo': 200001, 'apellido': 'Gómez', 'nombre': 'Laura', 'domicilio': 'Mitre 123', 'localidad': 'Tigre', 'telefono': '117778888'}\n",
      "{'legajo': 200002, 'apellido': 'Fernández', 'nombre': 'Carlos', 'domicilio': 'Belgrano 456', 'localidad': 'San Isidro', 'telefono': '116667777'}\n",
      "{'legajo': 200003, 'apellido': 'Paz', 'nombre': 'Elena', 'domicilio': 'Roca 789', 'localidad': 'Vicente López', 'telefono': '115556666'}\n"
     ]
    }
   ],
   "source": [
    "# Ejemplo de uso\n",
    "alumnos_json = AlumnosJson('alumnos.json')\n",
    "alumnos_json.agregar(200001, 'Gómez', 'Laura', 'Mitre 123', 'Tigre', '117778888')\n",
    "alumnos_json.agregar(200002, 'Fernández', 'Carlos', 'Belgrano 456', 'San Isidro', '116667777')\n",
    "alumnos_json.agregar(200003, 'Paz', 'Elena', 'Roca 789', 'Vicente López', '115556666')\n",
    "\n",
    "# Buscar por legajo\n",
    "legajo_buscar = 200002\n",
    "alumno = alumnos_json.buscar_por_legajo(legajo_buscar)\n",
    "if alumno:\n",
    "    print(f\"Alumno encontrado: {alumno}\")\n",
    "else:\n",
    "    print(f\"No se encontró alumno con legajo {legajo_buscar}\")\n",
    "\n",
    "# Recorrer todos los alumnos con el iterador\n",
    "it = AlumnoJsonIterator('alumnos.json')\n",
    "while not it.fin():\n",
    "    print(it.actual())\n",
    "    it.avanzar()"
   ]
  },
  {
   "attachments": {},
   "cell_type": "markdown",
   "id": "2cb5bc48-c768-4bdf-841a-f6ee8eeeaf29",
   "metadata": {
    "editable": true,
    "slideshow": {
     "slide_type": ""
    },
    "tags": []
   },
   "source": [
    "### Ejercicio 5\n",
    "\n",
    "Comparar las implementaciones con archivos binarios y json en términos de:\n",
    "1. Facilidad de implementación.\n",
    "2. Eficiencia en el uso del espacio.\n",
    "3. Velocidad de acceso a los registros.\n",
    "4. Flexibilidad para cambios futuros en la estructura de datos."
   ]
  },
  {
   "cell_type": "markdown",
   "id": "89591030",
   "metadata": {},
   "source": [
    "#### Resolución Ejercicio 5\n",
    "\n",
    "Completar"
   ]
  },
  {
   "cell_type": "markdown",
   "id": "91bc961b",
   "metadata": {},
   "source": [
    "### Ejercicio 6\n",
    "\n",
    "Modificar el programa del ejercicio 4 para que permita actualizar la información de un alumno existente en el archivo json. El programa debe buscar el alumno por su legajo y permitir modificar cualquiera de sus campos. Si el alumno no existe, debe mostrar un mensaje indicando que no se encontró."
   ]
  },
  {
   "cell_type": "code",
   "execution_count": null,
   "id": "ebff5d2d",
   "metadata": {},
   "outputs": [],
   "source": [
    "#### Resolución Ejercicio 6\n",
    "pass"
   ]
  },
  {
   "cell_type": "code",
   "execution_count": null,
   "id": "c5fc247a",
   "metadata": {},
   "outputs": [],
   "source": [
    "### Ejemplo de uso:\n",
    "# Mostrar registro antes de modificar\n",
    "print(\"Antes de modificar:\", alumnos_json.buscar_por_legajo(a['legajo']))\n",
    "\n",
    "# Actualizar el domicilio y teléfono del alumno\n",
    "actualizar_alumno_json('alumnos.json', a['legajo'], domicilio='Roca 999', telefono='119999999')\n",
    "\n",
    "# Mostrar registro después de modificar\n",
    "print(\"Después de modificar:\", alumnos_json.buscar_por_legajo(a['legajo']))"
   ]
  }
 ],
 "metadata": {
  "kernelspec": {
   "display_name": "edd",
   "language": "python",
   "name": "python3"
  },
  "language_info": {
   "codemirror_mode": {
    "name": "ipython",
    "version": 3
   },
   "file_extension": ".py",
   "mimetype": "text/x-python",
   "name": "python",
   "nbconvert_exporter": "python",
   "pygments_lexer": "ipython3",
   "version": "3.13.3"
  },
  "rise": {
   "start_slideshow_at": "beginning"
  }
 },
 "nbformat": 4,
 "nbformat_minor": 5
}
