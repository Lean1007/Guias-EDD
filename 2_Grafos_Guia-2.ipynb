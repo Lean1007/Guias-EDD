{
 "cells": [
  {
   "cell_type": "markdown",
   "id": "f05b7e77-8842-4ff5-bf9f-7433e68ccb68",
   "metadata": {
    "editable": true,
    "slideshow": {
     "slide_type": ""
    },
    "tags": []
   },
   "source": [
    "<p style=\"text-align: center;\"><center><img src=\"data:image/svg+xml,%3Csvg%20version%3D%221.2%22%20baseProfile%3D%22tiny%22%20id%3D%22Capa_1%22%20xmlns%3D%22http%3A%2F%2Fwww.w3.org%2F2000%2Fsvg%22%20xmlns%3Axlink%3D%22http%3A%2F%2Fwww.w3.org%2F1999%2Fxlink%22%20x%3D%220px%22%20y%3D%220px%22%20viewBox%3D%220%200%20136.5%2058%22%20width%3D%22136%22%20height%3D%2258%22%20overflow%3D%22visible%22%20xml%3Aspace%3D%22preserve%22%3E%3Cstyle%20type%3D%22text%2Fcss%22%3Epath%2Cpolygon%2Crect%7Bfill%3A%231e1f1d%21important%7D%40media%20%28prefers-color-scheme%3Adark%29%7Bpath%2Cpolygon%2Crect%7Bfill%3A%23e1e0e2%21important%7D%7D%3C%2Fstyle%3E%3Cg%3E%3Cpath%20d%3D%22M0%2C33.4h1v6.3c0%2C1.1%2C0.5%2C1.7%2C1.7%2C1.7s1.7-0.5%2C1.7-1.7v-6.3h1v6.3c0%2C1.8-1%2C2.5-2.7%2C2.5C1%2C42.3%2C0%2C41.5%2C0%2C39.7%20V33.4z%22%3E%3C%2Fpath%3E%3Cpolygon%20points%3D%228.1%2C42.2%208.1%2C33.4%209.4%2C33.4%2012.6%2C40.4%2012.7%2C40.4%2012.7%2C33.4%2013.7%2C33.4%2013.7%2C42.2%2012.4%2C42.2%209.1%2C34.9%209%2C34.9%209%2C42.2%22%3E%3C%2Fpolygon%3E%3Crect%20x%3D%2216.5%22%20width%3D%221%22%20y%3D%2233.4%22%20height%3D%228.7%22%3E%3C%2Frect%3E%3Cpolygon%20points%3D%2224.4%2C33.4%2025.4%2C33.4%2023.1%2C42.2%2021.7%2C42.2%2019.4%2C33.4%2020.5%2C33.4%2022.4%2C40.9%2022.5%2C40.9%22%3E%3C%2Fpolygon%3E%3Cpolygon%20points%3D%2227.4%2C42.2%2027.4%2C33.4%2032.1%2C33.4%2032.1%2C34.3%2028.4%2C34.3%2028.4%2C37.2%2031.6%2C37.2%2031.6%2C38.1%2028.4%2C38.1%2028.4%2C41.3%2032.3%2C41.3%2032.3%2C42.2%22%3E%3C%2Fpolygon%3E%3Cpath%20d%3D%22M35.3%2C37.6h1.8c1.1%2C0%2C1.6-0.5%2C1.6-1.6c0-1.1-0.5-1.6-1.6-1.6h-1.8V37.6z%20M35.3%2C42.2h-1v-8.7h3%20c1.6%2C0%2C2.5%2C0.9%2C2.5%2C2.5c0%2C1.3-0.6%2C2-1.2%2C2.3l1.3%2C3.9h-1.1l-1.2-3.6h-2.3V42.2z%22%3E%3C%2Fpath%3E%3Cpath%20d%3D%22M46.7%2C35.6c-0.1-1-0.6-1.4-1.7-1.4c-1%2C0-1.7%2C0.4-1.7%2C1.4c0%2C1%2C0.8%2C1.2%2C1.9%2C1.6c1.4%2C0.4%2C2.7%2C0.9%2C2.7%2C2.6%20c0%2C1.7-1.1%2C2.5-2.8%2C2.5c-1.8%2C0-2.8-0.8-2.9-2.5l1-0.1c0.1%2C1.2%2C0.7%2C1.7%2C1.9%2C1.7c1.1%2C0%2C1.8-0.5%2C1.8-1.5c0-1-0.6-1.3-1.9-1.7%20c-1.4-0.4-2.6-0.8-2.6-2.5c0-1.7%2C1.1-2.4%2C2.8-2.4c1.6%2C0%2C2.6%2C0.6%2C2.8%2C2.2L46.7%2C35.6z%22%3E%3C%2Fpath%3E%3Crect%20x%3D%2250.2%22%20width%3D%221%22%20y%3D%2233.4%22%20height%3D%228.7%22%3E%3C%2Frect%3E%3Cpath%20d%3D%22M55%2C41.3h1.9c1%2C0%2C1.7-0.5%2C1.7-1.5v-4c0-1-0.6-1.5-1.7-1.5H55V41.3z%20M54%2C33.4h2.8c1.8%2C0%2C2.8%2C0.7%2C2.8%2C2.5v3.7%20c0%2C1.8-1%2C2.5-2.8%2C2.5H54V33.4z%22%3E%3C%2Fpath%3E%3Cpath%20d%3D%22M63.2%2C39.1H66l-1.3-4.6h-0.1L63.2%2C39.1z%20M62.4%2C42.2h-1.1l2.6-8.7h1.5l2.6%2C8.7h-1.1L66.3%2C40H63L62.4%2C42.2z%22%3E%3C%2Fpath%3E%3Cpath%20d%3D%22M70.9%2C41.3h1.9c1%2C0%2C1.7-0.5%2C1.7-1.5v-4c0-1-0.6-1.5-1.7-1.5h-1.9V41.3z%20M69.8%2C33.4h2.8%20c1.8%2C0%2C2.8%2C0.7%2C2.8%2C2.5v3.7c0%2C1.8-1%2C2.5-2.8%2C2.5h-2.8V33.4z%22%3E%3C%2Fpath%3E%3Cpolygon%20points%3D%2281.3%2C42.2%2081.3%2C33.4%2082.6%2C33.4%2085.8%2C40.4%2085.9%2C40.4%2085.9%2C33.4%2086.9%2C33.4%2086.9%2C42.2%2085.6%2C42.2%2082.3%2C34.9%2082.2%2C34.9%2082.2%2C42.2%22%3E%3C%2Fpolygon%3E%3Cpath%20d%3D%22M90.7%2C39.1h2.8l-1.3-4.6H92L90.7%2C39.1z%20M89.8%2C42.2h-1.1l2.6-8.7h1.5l2.6%2C8.7h-1.1L93.7%2C40h-3.3L89.8%2C42.2z%22%3E%3C%2Fpath%3E%3Cpath%20d%3D%22M101.2%2C36.1v-0.4c0-1.1-0.5-1.5-1.7-1.5c-1.1%2C0-1.8%2C0.4-1.8%2C1.5v4.1c0%2C1.1%2C0.6%2C1.5%2C1.8%2C1.5%20c1.1%2C0%2C1.7-0.5%2C1.7-1.5v-0.4l1%2C0.1v0.1c0%2C1.8-0.9%2C2.6-2.7%2C2.6c-1.8%2C0-2.8-0.7-2.8-2.5v-4c0-1.8%2C1-2.5%2C2.8-2.5%20c1.8%2C0%2C2.7%2C0.7%2C2.7%2C2.6V36L101.2%2C36.1z%22%3E%3C%2Fpath%3E%3Crect%20x%3D%22104.7%22%20width%3D%221%22%20y%3D%2233.4%22%20height%3D%228.7%22%3E%3C%2Frect%3E%3Cpath%20d%3D%22M109.3%2C39.9c0%2C1.1%2C0.7%2C1.5%2C1.8%2C1.5c1.1%2C0%2C1.8-0.4%2C1.8-1.5v-4.1c0-1.1-0.7-1.5-1.8-1.5%20c-1.1%2C0-1.8%2C0.4-1.8%2C1.5V39.9z%20M108.3%2C35.8c0-1.9%2C1-2.5%2C2.8-2.5c1.8%2C0%2C2.8%2C0.7%2C2.8%2C2.5v3.9c0%2C1.9-1%2C2.5-2.8%2C2.5%20c-1.8%2C0-2.8-0.7-2.8-2.5V35.8z%22%3E%3C%2Fpath%3E%3Cpolygon%20points%3D%22116.5%2C42.2%20116.5%2C33.4%20117.8%2C33.4%20121%2C40.4%20121.1%2C40.4%20121.1%2C33.4%20122%2C33.4%20122%2C42.2%20120.8%2C42.2%20117.5%2C34.9%20117.4%2C34.9%20117.4%2C42.2%22%3E%3C%2Fpolygon%3E%3Cpath%20d%3D%22M125.9%2C39.1h2.8l-1.3-4.6h-0.1L125.9%2C39.1z%20M125%2C42.2h-1.1l2.6-8.7h1.5l2.6%2C8.7h-1.1l-0.6-2.1h-3.3%20L125%2C42.2z%22%3E%3C%2Fpath%3E%3Cpolygon%20points%3D%22132.5%2C42.2%20132.5%2C33.4%20133.5%2C33.4%20133.5%2C41.3%20136.5%2C41.3%20136.5%2C42.2%22%3E%3C%2Fpolygon%3E%3Cpath%20d%3D%22M1.2%2C57h1.9c1%2C0%2C1.7-0.5%2C1.7-1.5v-4c0-1-0.6-1.5-1.7-1.5H1.2V57z%20M0.1%2C49.1H3c1.8%2C0%2C2.8%2C0.7%2C2.8%2C2.5v3.7%20c0%2C1.8-1%2C2.5-2.8%2C2.5H0.1V49.1z%22%3E%3C%2Fpath%3E%3Cpolygon%20points%3D%228.3%2C57.9%208.3%2C49.1%2013%2C49.1%2013%2C50%209.3%2C50%209.3%2C52.9%2012.6%2C52.9%2012.6%2C53.8%209.3%2C53.8%209.3%2C57%2013.2%2C57%2013.2%2C57.9%22%3E%3C%2Fpolygon%3E%3Cpolygon%20points%3D%2219.7%2C50.1%2017.6%2C50.1%2017.6%2C49.1%2022.7%2C49.1%2022.7%2C50.1%2020.7%2C50.1%2020.7%2C57.9%2019.7%2C57.9%22%3E%3C%2Fpolygon%3E%3Cpath%20d%3D%22M25.6%2C53.3h1.8c1.1%2C0%2C1.6-0.5%2C1.6-1.6c0-1.1-0.5-1.6-1.6-1.6h-1.8V53.3z%20M25.6%2C57.9h-1v-8.7h3%20c1.6%2C0%2C2.5%2C0.9%2C2.5%2C2.5c0%2C1.3-0.6%2C2-1.2%2C2.3l1.3%2C3.9h-1.1l-1.2-3.6h-2.3V57.9z%22%3E%3C%2Fpath%3E%3Cpolygon%20points%3D%2232.8%2C57.9%2032.8%2C49.1%2037.5%2C49.1%2037.5%2C50%2033.8%2C50%2033.8%2C52.9%2037%2C52.9%2037%2C53.8%2033.8%2C53.8%2033.8%2C57%2037.7%2C57%2037.7%2C57.9%22%3E%3C%2Fpolygon%3E%3Cpath%20d%3D%22M44%2C51.3c-0.1-1-0.6-1.4-1.7-1.4c-1%2C0-1.7%2C0.4-1.7%2C1.4c0%2C1%2C0.8%2C1.2%2C1.9%2C1.6c1.4%2C0.4%2C2.7%2C0.9%2C2.7%2C2.6%20c0%2C1.7-1.1%2C2.5-2.8%2C2.5c-1.8%2C0-2.8-0.8-2.9-2.5l1-0.1c0.1%2C1.2%2C0.7%2C1.7%2C1.9%2C1.7c1.1%2C0%2C1.8-0.5%2C1.8-1.5c0-1-0.6-1.3-1.9-1.7%20c-1.4-0.4-2.6-0.8-2.6-2.5c0-1.7%2C1.1-2.4%2C2.8-2.4c1.6%2C0%2C2.6%2C0.6%2C2.8%2C2.2L44%2C51.3z%22%3E%3C%2Fpath%3E%3Cpath%20d%3D%22M51.8%2C57h1.9c1.1%2C0%2C1.7-0.5%2C1.7-1.5v-4c0-1-0.6-1.5-1.7-1.5h-1.9V57z%20M50.8%2C49.1h2.8c1.8%2C0%2C2.8%2C0.7%2C2.8%2C2.5%20v3.7c0%2C1.8-1%2C2.5-2.8%2C2.5h-2.8V49.1z%22%3E%3C%2Fpath%3E%3Cpolygon%20points%3D%2258.9%2C57.9%2058.9%2C49.1%2063.6%2C49.1%2063.6%2C50%2059.9%2C50%2059.9%2C52.9%2063.2%2C52.9%2063.2%2C53.8%2059.9%2C53.8%2059.9%2C57%2063.8%2C57%2063.8%2C57.9%22%3E%3C%2Fpolygon%3E%3Cpolygon%20points%3D%2269.2%2C57.9%2069.2%2C49.1%2073.6%2C49.1%2073.6%2C50%2070.2%2C50%2070.2%2C52.9%2073.2%2C52.9%2073.2%2C53.8%2070.2%2C53.8%2070.2%2C57.9%22%3E%3C%2Fpolygon%3E%3Cpolygon%20points%3D%2275.6%2C57.9%2075.6%2C49.1%2080.3%2C49.1%2080.3%2C50%2076.6%2C50%2076.6%2C52.9%2079.8%2C52.9%2079.8%2C53.8%2076.6%2C53.8%2076.6%2C57%2080.5%2C57%2080.5%2C57.9%22%3E%3C%2Fpolygon%3E%3Cpath%20d%3D%22M83.5%2C57h2.1c1.1%2C0%2C1.7-0.6%2C1.7-1.6c0-1.1-0.6-1.6-1.7-1.6h-2V57z%20M83.5%2C52.9h2c1%2C0%2C1.5-0.5%2C1.5-1.4%20c0-1-0.5-1.4-1.5-1.4h-2V52.9z%20M82.5%2C49.1h3.3c1.6%2C0%2C2.3%2C0.7%2C2.3%2C2.2c0%2C1-0.3%2C1.6-1%2C1.9v0.1c0.6%2C0.2%2C1.2%2C0.9%2C1.2%2C2.1%20c0%2C1.5-0.7%2C2.4-2.4%2C2.4h-3.4V49.1z%22%3E%3C%2Fpath%3E%3Cpath%20d%3D%22M91.9%2C53.3h1.8c1.1%2C0%2C1.6-0.5%2C1.6-1.6c0-1.1-0.5-1.6-1.6-1.6h-1.8V53.3z%20M91.9%2C57.9h-1v-8.7h3%20c1.6%2C0%2C2.5%2C0.9%2C2.5%2C2.5c0%2C1.3-0.6%2C2-1.2%2C2.3l1.3%2C3.9h-1.1l-1.2-3.6h-2.3V57.9z%22%3E%3C%2Fpath%3E%3Cpolygon%20points%3D%2299%2C57.9%2099%2C49.1%20103.7%2C49.1%20103.7%2C50%20100%2C50%20100%2C52.9%20103.3%2C52.9%20103.3%2C53.8%20100%2C53.8%20100%2C57%20103.9%2C57%20103.9%2C57.9%22%3E%3C%2Fpolygon%3E%3Cpath%20d%3D%22M107%2C53.3h1.8c1.1%2C0%2C1.6-0.5%2C1.6-1.6c0-1.1-0.5-1.6-1.6-1.6H107V53.3z%20M107%2C57.9h-1v-8.7h3%20c1.6%2C0%2C2.5%2C0.9%2C2.5%2C2.5c0%2C1.3-0.6%2C2-1.2%2C2.3l1.3%2C3.9h-1.1l-1.2-3.6H107V57.9z%22%3E%3C%2Fpath%3E%3Cpath%20d%3D%22M114.9%2C55.6c0%2C1.1%2C0.7%2C1.5%2C1.8%2C1.5c1.1%2C0%2C1.8-0.4%2C1.8-1.5v-4.1c0-1.1-0.7-1.5-1.8-1.5%20c-1.1%2C0-1.8%2C0.4-1.8%2C1.5V55.6z%20M113.9%2C51.5c0-1.9%2C1-2.5%2C2.8-2.5c1.8%2C0%2C2.8%2C0.7%2C2.8%2C2.5v3.9c0%2C1.9-1%2C2.5-2.8%2C2.5%20c-1.8%2C0-2.8-0.7-2.8-2.5V51.5z%22%3E%3C%2Fpath%3E%3Crect%20y%3D%2223.7%22%20width%3D%2296.4%22%20height%3D%223.6%22%3E%3C%2Frect%3E%3Cpath%20d%3D%22M69.1%2C17.5V0h11.5v2.9h-8V7h7.3v2.9h-7.3v4.7H81v2.9H69.1z%20M85.3%2C17.5V0h11v2.9h-7.6V7h6.9v2.9h-6.9v7.6%20H85.3z%20M54.5%2C17.5H51V0h7.2C62.1%2C0%2C64%2C1.8%2C64%2C5.3c0%2C2.8-1.4%2C4.1-2.7%2C4.6l2.9%2C7.6h-3.8L58%2C10.5h-3.5V17.5z%20M54.5%2C7.7h2.9%20c2%2C0%2C3-0.6%2C3-2.5c0-1.9-1-2.5-3-2.5h-2.9V7.7z%20M39.9%2C2.9h-4.4V0h12.4v2.9h-4.4v14.6h-3.5V2.9z%20M18.8%2C17.5V0h4.1l5.8%2C11.7h0.2V0h3.4%20v17.5h-4L22.2%2C5.3h-0.2v12.2H18.8z%20M0.1%2C0h3.5v12.1c0%2C2%2C1%2C2.8%2C3%2C2.8c2%2C0%2C3-0.8%2C3-2.8V0h3.5v12.1c0%2C3.8-2.3%2C5.7-6.5%2C5.7%20c-4.2%2C0-6.5-1.9-6.5-5.7V0z%22%3E%3C%2Fpath%3E%3C%2Fg%3E%3C%2Fsvg%3E\" /></center></p>\n",
    "\n",
    "<h2 style=\"text-align: center\">Estructura de Datos</h2>\n",
    "\n",
    "<h3 style=\"text-align: center\">Grafos: Caminos Mínimos</h3>\n",
    "\n",
    "<h3 style=\"text-align: center\">Guía de Ejercicios</h3>"
   ]
  },
  {
   "cell_type": "code",
   "execution_count": null,
   "id": "8685ce2e",
   "metadata": {},
   "outputs": [],
   "source": [
    "# Ejecutar si hace falta instalar las librerias\n",
    "%pip install networkx matplotlib"
   ]
  },
  {
   "cell_type": "markdown",
   "id": "bb37ddd9-6839-4872-bcaf-a8e7ca3c3552",
   "metadata": {
    "editable": true,
    "slideshow": {
     "slide_type": ""
    },
    "tags": []
   },
   "source": [
    "### Ejercicio 1\n",
    "\n",
    "Dado el siguiente grafo, calcular la distancia más corta desde $A$ a todos vértices, aplicando el algoritmo de Dijkstra. Mostrar paso a paso la aplicación del algoritmo. Indicar los caminos correspondientes.\n",
    "\n",
    "|     |  A  |  B  |  C  |  D  |  E  |\n",
    "|-----|-----|-----|-----|-----|-----|\n",
    "| A   |  0  | 12  |  0  | 87  |  0  |\n",
    "| B   |  0  |  0  |  0  |  0  | 11  |\n",
    "| C   | 19  |  0  |  0  |  0  |  0  |\n",
    "| D   |  0  | 23  |  0  |  0  |  0  |\n",
    "| E   |  0  |  0  |  0  |  0  |  0  |"
   ]
  },
  {
   "cell_type": "markdown",
   "id": "db010c17-a684-43ec-8b0e-66f85a1206b0",
   "metadata": {
    "editable": true,
    "slideshow": {
     "slide_type": ""
    },
    "tags": []
   },
   "source": [
    "COMPLETA AQUÍ TU \n"
   ]
  },
  {
   "cell_type": "markdown",
   "id": "6445da65-6b37-429f-8435-162662c02885",
   "metadata": {
    "editable": true,
    "slideshow": {
     "slide_type": ""
    },
    "tags": []
   },
   "source": [
    "### Ejercicio 2\n",
    "\n",
    "Dado el siguiente grafo, explicar con un ejemplo concreto por qué no es aplicable el algoritmo de Dijkstra.  \n",
    "> Pista: elegir un vertice de inicio y mostrar paso a paso como falla el algoritmo.\n",
    "\n",
    "- 1: [(2, 4), (3, 8), (4, 3)]\n",
    "- 2: [(4, -10), (5, 5)]\n",
    "- 3: [(2, 4)]\n",
    "- 4: [(5, 6)]\n",
    "- 5: [(3, 5)]"
   ]
  },
  {
   "cell_type": "markdown",
   "id": "d6cb2126-9d4c-4758-8822-212600226145",
   "metadata": {
    "editable": true,
    "slideshow": {
     "slide_type": ""
    },
    "tags": []
   },
   "source": [
    "COMPLETA AQUÍ TU RESPUESTA\n"
   ]
  },
  {
   "cell_type": "markdown",
   "id": "58a63602-092e-4c12-9c0f-dafa1adf7efb",
   "metadata": {
    "editable": true,
    "slideshow": {
     "slide_type": ""
    },
    "tags": []
   },
   "source": [
    "### Ejercicio 3\n",
    "\n",
    "Dado el grafo del ejercicio anterior, aplicar el algoritmo de Bellman-Ford para calcular el camino mínimo desde el vértice elegido en el punto anterior a los demás vértices. Mostrar paso a paso la aplicación del algoritmo. Indicar los caminos correspondientes."
   ]
  },
  {
   "cell_type": "markdown",
   "id": "457b2b41-f0ba-4503-be8f-290f36860028",
   "metadata": {
    "editable": true,
    "slideshow": {
     "slide_type": ""
    },
    "tags": []
   },
   "source": [
    "COMPLETA AQUÍ TU RESPUESTA\n"
   ]
  },
  {
   "cell_type": "markdown",
   "id": "92ba565c-0931-4f2b-b9b5-02321bfb7b81",
   "metadata": {
    "editable": true,
    "slideshow": {
     "slide_type": ""
    },
    "tags": []
   },
   "source": [
    "### Ejercicio 4\n",
    "\n",
    "Escribir una función que implemente el algoritmo de Dijkstra. La función debe recibir como parámetros un grafo dirigido con pesos en las aristas y un nodo inicial, y debe devolver un diccionario con la distancia mínima desde el nodo inicial a todos los demás nodos del grafo.\n",
    "\n",
    "Pista: usar el módulo `heapq` para implementar la cola de prioridad. Para indicar distancia infinito usar `float('inf')`.\n",
    "\n"
   ]
  },
  {
   "cell_type": "code",
   "execution_count": null,
   "id": "d8b63279",
   "metadata": {},
   "outputs": [],
   "source": [
    "import heapq\n",
    "\n",
    "\n",
    "def camino_minimo_dijkstra(grafo, origen):\n",
    "    \"\"\"\n",
    "    Calcula las distancias mínimas desde el nodo inicial a todos los demás nodos usando el algoritmo de Dijkstra.\n",
    "\n",
    "    Parámetros:\n",
    "        grafo: networkx.DiGraph\n",
    "            Grafo dirigido con pesos en las aristas.\n",
    "        origen: nodo\n",
    "            Nodo inicial desde el cual se calculan las distancias.\n",
    "\n",
    "    Devuelve:\n",
    "        dict\n",
    "            Diccionario donde las claves son los nodos y los valores son tuplas (distancia mínima, predecesor).\n",
    "            Ejemplo: {'A': (0, None), 'B': (12, 'A'), ...}\n",
    "    \"\"\"\n",
    "    pass"
   ]
  },
  {
   "cell_type": "code",
   "execution_count": null,
   "id": "f71910d9",
   "metadata": {},
   "outputs": [],
   "source": [
    "import networkx as nx\n",
    "import matplotlib.pyplot as plt\n",
    "\n",
    "grafo = nx.DiGraph()\n",
    "grafo.add_weighted_edges_from([(\"A\", \"B\", 12), (\"A\", \"D\", 87), (\"B\", \"E\", 11), (\"C\", \"A\", 19), (\"D\", \"B\", 23)])\n",
    "origen = \"A\"\n",
    "distancias = camino_minimo_dijkstra(grafo, origen)\n",
    "print(distancias)\n",
    "\n",
    "node_colors = [\"orange\" if n == origen else \"lightblue\" for n in grafo.nodes]\n",
    "pos = nx.spring_layout(grafo, seed=42)  # Generate positions for current graph\n",
    "labels = nx.get_edge_attributes(grafo, \"weight\")  # Get edge labels for current graph\n",
    "plt.figure(figsize=(5, 3))\n",
    "nx.draw(grafo, pos, with_labels=True, node_color=node_colors, node_size=400, arrows=True)\n",
    "nx.draw_networkx_edge_labels(grafo, pos, edge_labels=labels)\n",
    "plt.show()"
   ]
  },
  {
   "cell_type": "code",
   "execution_count": null,
   "id": "c3c51c84-97fd-4d29-a566-cbc71b8b38d3",
   "metadata": {
    "editable": true,
    "slideshow": {
     "slide_type": ""
    },
    "tags": []
   },
   "outputs": [],
   "source": [
    "from unittest import TestCase, main\n",
    "\n",
    "\n",
    "class TestCaminoMinimoDijkstra(TestCase):\n",
    "    def setUp(self):\n",
    "        self.grafo = nx.DiGraph()\n",
    "        self.grafo.add_weighted_edges_from(\n",
    "            [(\"A\", \"B\", 12), (\"A\", \"D\", 87), (\"B\", \"E\", 11), (\"C\", \"A\", 19), (\"D\", \"B\", 23)]\n",
    "        )\n",
    "        self.origen = \"A\"\n",
    "\n",
    "    def test_distancias_y_predecesores(self):\n",
    "        resultado = camino_minimo_dijkstra(self.grafo, self.origen)\n",
    "        esperado = {\"A\": (0, None), \"B\": (12, \"A\"), \"C\": (float(\"inf\"), None), \"D\": (87, \"A\"), \"E\": (23, \"B\")}\n",
    "        self.assertEqual(resultado, esperado)\n",
    "\n",
    "    def test_grafo_desconectado(self):\n",
    "        grafo = nx.DiGraph()\n",
    "        grafo.add_weighted_edges_from([(\"A\", \"B\", 1), (\"C\", \"D\", 2)])\n",
    "        resultado = camino_minimo_dijkstra(grafo, \"A\")\n",
    "        esperado = {\"A\": (0, None), \"B\": (1, \"A\"), \"C\": (float(\"inf\"), None), \"D\": (float(\"inf\"), None)}\n",
    "        self.assertEqual(resultado, esperado)\n",
    "\n",
    "    def test_arista_negativa_no_falla(self):\n",
    "        grafo = nx.DiGraph()\n",
    "        grafo.add_weighted_edges_from([(\"A\", \"B\", -2), (\"B\", \"C\", 3)])\n",
    "        resultado = camino_minimo_dijkstra(grafo, \"A\")\n",
    "        esperado = {\"A\": (0, None), \"B\": (-2, \"A\"), \"C\": (1, \"B\")}\n",
    "        self.assertEqual(resultado, esperado)\n",
    "\n",
    "\n",
    "test = main(argv=[\"\"], defaultTest=\"TestCaminoMinimoDijkstra\", verbosity=2, exit=False)\n",
    "len(test.result.failures) == 0"
   ]
  },
  {
   "cell_type": "markdown",
   "id": "0db641a0-a092-48ef-904e-5112ae843340",
   "metadata": {
    "editable": true,
    "slideshow": {
     "slide_type": ""
    },
    "tags": []
   },
   "source": [
    "### Ejercicio 5\n",
    "\n",
    "Escribir una función que implemente el algoritmo de Bellman-Ford. La función debe recibir como parámetros un grafo dirigido con pesos en las aristas y un nodo inicial, y debe devolver un diccionario con la distancia mínima desde el nodo inicial a todos los demás nodos del grafo."
   ]
  },
  {
   "cell_type": "code",
   "execution_count": null,
   "id": "49957e7b-5481-4002-872d-a22608ac3137",
   "metadata": {
    "editable": true,
    "slideshow": {
     "slide_type": ""
    },
    "tags": []
   },
   "outputs": [],
   "source": [
    "import networkx as nx\n",
    "\n",
    "\n",
    "def camino_minimo_bellman_ford(grafo, origen):\n",
    "    \"\"\"\n",
    "    Calcula las distancias mínimas desde el nodo inicial a todos los demás nodos usando el algoritmo de Bellman-Ford.\n",
    "\n",
    "    Parámetros:\n",
    "       grafo: networkx.DiGraph\n",
    "          Grafo dirigido con pesos en las aristas.\n",
    "       origen: nodo\n",
    "          Nodo inicial desde el cual se calculan las distancias.\n",
    "\n",
    "    Devuelve:\n",
    "       dict\n",
    "          Diccionario donde las claves son los nodos y los valores son tuplas (distancia mínima, predecesor).\n",
    "          Ejemplo: {'A': (0, None), 'B': (12, 'A'), ...}\n",
    "    \"\"\"\n",
    "    pass"
   ]
  },
  {
   "cell_type": "code",
   "execution_count": null,
   "id": "e795efc3-17a6-48c7-8d23-87a02b6d682b",
   "metadata": {
    "editable": true,
    "slideshow": {
     "slide_type": ""
    },
    "tags": []
   },
   "outputs": [],
   "source": [
    "import networkx as nx\n",
    "import matplotlib.pyplot as plt\n",
    "\n",
    "grafo = nx.DiGraph()\n",
    "grafo.add_weighted_edges_from(\n",
    "    [\n",
    "        (\"1\", \"2\", 3),\n",
    "        (\"1\", \"3\", 8),\n",
    "        (\"1\", \"4\", 4),\n",
    "        (\"2\", \"4\", -10),\n",
    "        (\"2\", \"5\", 5),\n",
    "        (\"3\", \"2\", 4),\n",
    "        (\"4\", \"5\", 6),\n",
    "        (\"5\", \"3\", 5),\n",
    "    ]\n",
    ")\n",
    "\n",
    "origen = \"1\"\n",
    "distancias = camino_minimo_bellman_ford(grafo, origen)\n",
    "print(distancias)\n",
    "\n",
    "node_colors = [\"orange\" if n == origen else \"lightblue\" for n in grafo.nodes]\n",
    "pos = nx.spring_layout(grafo, seed=42)  # Generate positions for current graph\n",
    "labels = nx.get_edge_attributes(grafo, \"weight\")  # Get edge labels for current graph\n",
    "plt.figure(figsize=(5, 3))\n",
    "nx.draw(grafo, pos, with_labels=True, node_color=node_colors, node_size=400, arrows=True)\n",
    "nx.draw_networkx_edge_labels(grafo, pos, edge_labels=labels)\n",
    "plt.show()"
   ]
  },
  {
   "cell_type": "code",
   "execution_count": null,
   "id": "4f4510ee",
   "metadata": {},
   "outputs": [],
   "source": [
    "from unittest import TestCase, main\n",
    "\n",
    "\n",
    "class TestCaminoMinimoBellmanFord(TestCase):\n",
    "    def setUp(self):\n",
    "        self.grafo = nx.DiGraph()\n",
    "        self.grafo.add_weighted_edges_from(\n",
    "            [\n",
    "                (\"1\", \"2\", 3),\n",
    "                (\"1\", \"3\", 8),\n",
    "                (\"1\", \"4\", 4),\n",
    "                (\"2\", \"4\", -10),\n",
    "                (\"2\", \"5\", 5),\n",
    "                (\"3\", \"2\", 4),\n",
    "                (\"4\", \"5\", 6),\n",
    "                (\"5\", \"3\", 5),\n",
    "            ]\n",
    "        )\n",
    "        self.origen = \"1\"\n",
    "\n",
    "    def test_distancias_y_predecesores(self):\n",
    "        resultado = camino_minimo_bellman_ford(self.grafo, self.origen)\n",
    "        esperado = {\"1\": (0, None), \"2\": (3, \"1\"), \"3\": (4, \"5\"), \"4\": (-7, \"2\"), \"5\": (-1, \"4\")}\n",
    "        self.assertEqual(resultado, esperado)\n",
    "\n",
    "    def test_grafo_con_ciclo_negativo(self):\n",
    "        grafo = nx.DiGraph()\n",
    "        grafo.add_weighted_edges_from([(\"A\", \"B\", 1), (\"B\", \"C\", -2), (\"C\", \"A\", -2)])\n",
    "        with self.assertRaises(ValueError):\n",
    "            camino_minimo_bellman_ford(grafo, \"A\")\n",
    "\n",
    "    def test_grafo_todas_aristas_negativas_sin_ciclo(self):\n",
    "        grafo = nx.DiGraph()\n",
    "        grafo.add_weighted_edges_from([(\"A\", \"B\", -1), (\"B\", \"C\", -2), (\"C\", \"D\", -3)])\n",
    "        esperado = {\"A\": (0, None), \"B\": (-1, \"A\"), \"C\": (-3, \"B\"), \"D\": (-6, \"C\")}\n",
    "        resultado = camino_minimo_bellman_ford(grafo, \"A\")\n",
    "        self.assertEqual(resultado, esperado)\n",
    "\n",
    "    def test_grafo_lento_en_estabilizar(self):\n",
    "        grafo = nx.DiGraph()\n",
    "        grafo.add_weighted_edges_from([(\"A\", \"B\", 1), (\"B\", \"C\", 1), (\"C\", \"D\", 1), (\"D\", \"E\", 1), (\"A\", \"E\", 10)])\n",
    "        esperado = {\"A\": (0, None), \"B\": (1, \"A\"), \"C\": (2, \"B\"), \"D\": (3, \"C\"), \"E\": (4, \"D\")}\n",
    "        resultado = camino_minimo_bellman_ford(grafo, \"A\")\n",
    "        self.assertEqual(resultado, esperado)\n",
    "\n",
    "\n",
    "test = main(argv=[\"\"], defaultTest=\"TestCaminoMinimoBellmanFord\", verbosity=2, exit=False)\n",
    "len(test.result.failures) == 0"
   ]
  },
  {
   "cell_type": "markdown",
   "id": "cebeeb0f-96a5-41ac-be68-ccef0373d88a",
   "metadata": {
    "editable": true,
    "slideshow": {
     "slide_type": ""
    },
    "tags": []
   },
   "source": [
    "### Ejercicio 6\n",
    "\n",
    "Escribir una función que reciba como parámetro la salida de las funciones del [Ejercicio 4](#Ejercicio-4) y del [Ejercicio 5](#Ejercicio-5) y un nodo destino, y devuelva el camino mínimo desde el nodo inicial al nodo destino."
   ]
  },
  {
   "cell_type": "code",
   "execution_count": null,
   "id": "ede26657",
   "metadata": {},
   "outputs": [],
   "source": [
    "def recuperar_camino(distancias, destino):\n",
    "    \"\"\"\n",
    "    Recupera el camino mínimo desde el nodo inicial al nodo destino usando el diccionario de distancias y predecesores.\n",
    "\n",
    "    Parámetros:\n",
    "        distancias: dict\n",
    "            Diccionario donde las claves son los nodos y los valores son tuplas (distancia mínima, predecesor).\n",
    "            Ejemplo: {'A': (0, None), 'B': (12, 'A'), ...}\n",
    "        destino: nodo\n",
    "            Nodo destino al que se desea recuperar el camino.\n",
    "\n",
    "    Devuelve:\n",
    "        list\n",
    "            Lista de nodos que conforman el camino mínimo desde el nodo inicial al destino.\n",
    "            Si el destino es inalcanzable, devuelve una lista con solo el destino.\n",
    "    \"\"\"\n",
    "    pass"
   ]
  },
  {
   "cell_type": "code",
   "execution_count": null,
   "id": "bb22d93c-1f2f-40dd-a2ff-470061f8e0bc",
   "metadata": {
    "editable": true,
    "slideshow": {
     "slide_type": ""
    },
    "tags": []
   },
   "outputs": [],
   "source": [
    "import networkx as nx\n",
    "import matplotlib.pyplot as plt\n",
    "\n",
    "grafo = nx.DiGraph()\n",
    "grafo.add_weighted_edges_from(\n",
    "    [\n",
    "        (\"1\", \"2\", 3),\n",
    "        (\"1\", \"3\", 8),\n",
    "        (\"1\", \"4\", 4),\n",
    "        (\"2\", \"4\", -10),\n",
    "        (\"2\", \"5\", 5),\n",
    "        (\"3\", \"2\", 4),\n",
    "        (\"4\", \"5\", 6),\n",
    "        (\"5\", \"3\", 5),\n",
    "    ]\n",
    ")\n",
    "\n",
    "origen = \"1\"\n",
    "\n",
    "node_colors = [\"orange\" if n == origen else \"lightblue\" for n in grafo.nodes]\n",
    "pos = nx.spring_layout(grafo, seed=42)  # Generate positions for current graph\n",
    "labels = nx.get_edge_attributes(grafo, \"weight\")  # Get edge labels for current graph\n",
    "plt.figure(figsize=(5, 3))\n",
    "nx.draw(grafo, pos, with_labels=True, node_color=node_colors, node_size=400, arrows=True)\n",
    "nx.draw_networkx_edge_labels(grafo, pos, edge_labels=labels)\n",
    "plt.show()\n",
    "\n",
    "distancias = camino_minimo_bellman_ford(grafo, origen)\n",
    "recuperar_camino(distancias, \"4\")"
   ]
  },
  {
   "cell_type": "code",
   "execution_count": null,
   "id": "d71b805f",
   "metadata": {},
   "outputs": [],
   "source": [
    "from unittest import TestCase, main\n",
    "\n",
    "\n",
    "class TestRecuperarCamino(TestCase):\n",
    "    def setUp(self):\n",
    "        self.grafo = nx.DiGraph()\n",
    "        self.grafo.add_weighted_edges_from([(\"A\", \"B\", 1), (\"A\", \"C\", 1), (\"B\", \"D\", 1), (\"C\", \"D\", 1), (\"D\", \"E\", 1)])\n",
    "        self.origen = \"A\"\n",
    "\n",
    "    def test_camino_dijkstra_simple(self):\n",
    "        distancias = camino_minimo_dijkstra(self.grafo, self.origen)\n",
    "        camino = recuperar_camino(distancias, \"E\")\n",
    "        self.assertIn(camino, [[\"A\", \"B\", \"D\", \"E\"], [\"A\", \"C\", \"D\", \"E\"]])\n",
    "\n",
    "    def test_camino_bellman_ford_simple(self):\n",
    "        distancias = camino_minimo_bellman_ford(self.grafo, self.origen)\n",
    "        camino = recuperar_camino(distancias, \"E\")\n",
    "        self.assertIn(camino, [[\"A\", \"B\", \"D\", \"E\"], [\"A\", \"C\", \"D\", \"E\"]])\n",
    "\n",
    "    def test_nodo_inalcanzable_dijkstra(self):\n",
    "        self.grafo.add_node(\"Z\")\n",
    "        distancias = camino_minimo_dijkstra(self.grafo, self.origen)\n",
    "        camino = recuperar_camino(distancias, \"Z\")\n",
    "        self.assertEqual(camino, [\"Z\"])\n",
    "\n",
    "    def test_nodo_inalcanzable_bellman_ford(self):\n",
    "        self.grafo.add_node(\"Z\")\n",
    "        distancias = camino_minimo_bellman_ford(self.grafo, self.origen)\n",
    "        camino = recuperar_camino(distancias, \"Z\")\n",
    "        self.assertEqual(camino, [\"Z\"])\n",
    "\n",
    "    def test_camino_grafo_ejemplo_bellman_ford(self):\n",
    "        camino = recuperar_camino(distancias, \"4\")\n",
    "        self.assertEqual(camino, [\"1\", \"2\", \"4\"])\n",
    "\n",
    "\n",
    "test = main(argv=[\"\"], defaultTest=\"TestRecuperarCamino\", verbosity=2, exit=False)\n",
    "len(test.result.failures) == 0"
   ]
  },
  {
   "cell_type": "markdown",
   "id": "b35a99f9-a765-4919-810f-c0e229f03a56",
   "metadata": {},
   "source": [
    "### Ejercicio 7\n",
    "\n",
    "Escribir una variante del algoritmo de Dijkstra que, si hay varios caminos mínimos entre el nodo inicial y un nodo destino, elija el que atraviesa la menor cantidad de nodos intermedios."
   ]
  },
  {
   "cell_type": "code",
   "execution_count": null,
   "id": "61febfc2",
   "metadata": {},
   "outputs": [],
   "source": [
    "import networkx as nx\n",
    "import heapq\n",
    "\n",
    "\n",
    "def camino_minimo_dijkstra_2(grafo, origen):\n",
    "    \"\"\"\n",
    "    Variante del algoritmo de Dijkstra que, si hay varios caminos mínimos entre el nodo inicial y un nodo destino,\n",
    "    elige el que atraviesa la menor cantidad de nodos intermedios.\n",
    "\n",
    "    Parámetros:\n",
    "        grafo: networkx.DiGraph\n",
    "            Grafo dirigido con pesos en las aristas.\n",
    "        origen: nodo\n",
    "            Nodo inicial desde el cual se calculan las distancias.\n",
    "\n",
    "    Devuelve:\n",
    "        dict\n",
    "            Diccionario donde las claves son los nodos y los valores son tuplas (distancia mínima, predecesor).\n",
    "            Ejemplo: {'A': (0, None), 'B': (1, 'A'), ...}\n",
    "    \"\"\"\n",
    "    pass"
   ]
  },
  {
   "cell_type": "code",
   "execution_count": null,
   "id": "25906465",
   "metadata": {},
   "outputs": [],
   "source": [
    "import networkx as nx\n",
    "import matplotlib.pyplot as plt\n",
    "\n",
    "# Grafo con varios caminos mínimos de diferente cantidad de aristas\n",
    "grafo = nx.DiGraph()\n",
    "grafo.add_weighted_edges_from(\n",
    "    [\n",
    "        (\"A\", \"B\", 1),\n",
    "        (\"A\", \"C\", 1),\n",
    "        (\"B\", \"D\", 1),\n",
    "        (\"C\", \"D\", 1),\n",
    "        (\"A\", \"D\", 2),  # Camino directo con mismo peso que los caminos A->B->D y A->C->D\n",
    "    ]\n",
    ")\n",
    "\n",
    "origen = \"A\"\n",
    "resultado = camino_minimo_dijkstra_2(grafo, origen)\n",
    "print(\"Distancias y predecesores:\", resultado)\n",
    "print(\"Camino mínimo a D:\", recuperar_camino(resultado, \"D\"))\n",
    "\n",
    "node_colors = [\"orange\" if n == origen else \"lightblue\" for n in grafo.nodes]\n",
    "pos = nx.spring_layout(grafo, seed=42)  # Generate positions for current graph\n",
    "labels = nx.get_edge_attributes(grafo, \"weight\")  # Get edge labels for current graph\n",
    "plt.figure(figsize=(5, 3))\n",
    "nx.draw(grafo, pos, with_labels=True, node_color=node_colors, node_size=400, arrows=True)\n",
    "nx.draw_networkx_edge_labels(grafo, pos, edge_labels=labels)\n",
    "plt.show()"
   ]
  },
  {
   "cell_type": "code",
   "execution_count": null,
   "id": "91a69d65",
   "metadata": {},
   "outputs": [],
   "source": [
    "from unittest import TestCase, main\n",
    "\n",
    "\n",
    "class TestCaminoMinimoDijkstra2(TestCase):\n",
    "    def test_nodos_inalcanzables(self):\n",
    "        g = nx.DiGraph()\n",
    "        g.add_weighted_edges_from([(\"A\", \"B\", 1), (\"C\", \"D\", 2)])\n",
    "        res = camino_minimo_dijkstra_2(g, \"A\")\n",
    "        self.assertEqual(res[\"B\"][0], 1)\n",
    "        self.assertEqual(res[\"C\"][0], float(\"inf\"))\n",
    "        self.assertEqual(res[\"D\"][0], float(\"inf\"))\n",
    "\n",
    "    def test_varios_caminos_minimos_distinta_longitud(self):\n",
    "        g = nx.DiGraph()\n",
    "        g.add_weighted_edges_from([(\"A\", \"B\", 1), (\"A\", \"C\", 1), (\"B\", \"D\", 1), (\"C\", \"D\", 1), (\"A\", \"D\", 2)])\n",
    "        res = camino_minimo_dijkstra_2(g, \"A\")\n",
    "        # El camino directo A->D debe ser elegido por tener menos nodos intermedios\n",
    "        self.assertEqual(res[\"D\"][0], 2)\n",
    "        self.assertEqual(res[\"D\"][1], \"A\")\n",
    "\n",
    "    def test_varios_caminos_minimos_misma_longitud(self):\n",
    "        g = nx.DiGraph()\n",
    "        g.add_weighted_edges_from([(\"A\", \"B\", 1), (\"A\", \"C\", 1), (\"B\", \"D\", 1), (\"C\", \"D\", 1)])\n",
    "        res = camino_minimo_dijkstra_2(g, \"A\")\n",
    "        # Ambos caminos A->B->D y A->C->D tienen misma distancia y misma cantidad de nodos\n",
    "        self.assertEqual(res[\"D\"][0], 2)\n",
    "        self.assertIn(res[\"D\"][1], [\"B\", \"C\"])\n",
    "\n",
    "\n",
    "test = main(argv=[\"\"], defaultTest=\"TestCaminoMinimoDijkstra2\", verbosity=2, exit=False)\n",
    "len(test.result.failures) == 0"
   ]
  },
  {
   "cell_type": "markdown",
   "id": "32ef5b38",
   "metadata": {},
   "source": [
    "### Ejercicio 8\n",
    "\n",
    "Modificar el algoritmo de Dikstra para que en el caso que haya más de un camino mínimo hasta un vértice registre todos los caminos mínimos"
   ]
  },
  {
   "cell_type": "code",
   "execution_count": null,
   "id": "418680ec-ce5d-4b1f-8bfe-84e82095be31",
   "metadata": {},
   "outputs": [],
   "source": [
    "import networkx as nx\n",
    "import heapq\n",
    "\n",
    "\n",
    "def camino_minimo_dijkstra_3(grafo, origen):\n",
    "    \"\"\"\n",
    "    Calcula las distancias mínimas desde el nodo inicial a todos los demás nodos usando el algoritmo de Dijkstra,\n",
    "    registrando todos los caminos mínimos posibles para cada nodo.\n",
    "\n",
    "    Parámetros:\n",
    "        grafo: networkx.DiGraph\n",
    "            Grafo dirigido con pesos en las aristas.\n",
    "        origen: nodo\n",
    "            Nodo inicial desde el cual se calculan las distancias.\n",
    "\n",
    "    Devuelve:\n",
    "        dict\n",
    "            Diccionario donde las claves son los nodos y los valores son tuplas (distancia mínima, lista de caminos mínimos).\n",
    "            Ejemplo: {'A': (0, [[A]]), 'B': (1, [[A, B], [A, C, B]]), ...}\n",
    "    \"\"\"\n",
    "    pass"
   ]
  },
  {
   "cell_type": "code",
   "execution_count": null,
   "id": "40c40ecc",
   "metadata": {},
   "outputs": [],
   "source": [
    "import networkx as nx\n",
    "import matplotlib.pyplot as plt\n",
    "\n",
    "grafo = nx.DiGraph()\n",
    "grafo.add_weighted_edges_from([(\"A\", \"B\", 1), (\"A\", \"C\", 1), (\"A\", \"D\", 2), (\"B\", \"D\", 1), (\"C\", \"D\", 1)])\n",
    "\n",
    "origen = \"A\"\n",
    "resultado = camino_minimo_dijkstra_3(grafo, origen)\n",
    "print(resultado)\n",
    "\n",
    "node_colors = [\"orange\" if n == origen else \"lightblue\" for n in grafo.nodes]\n",
    "pos = nx.spring_layout(grafo, seed=42)  # Generate positions for current graph\n",
    "labels = nx.get_edge_attributes(grafo, \"weight\")  # Get edge labels for current graph\n",
    "plt.figure(figsize=(5, 3))\n",
    "nx.draw(grafo, pos, with_labels=True, node_color=node_colors, node_size=400, arrows=True)\n",
    "nx.draw_networkx_edge_labels(grafo, pos, edge_labels=labels)\n",
    "plt.show()"
   ]
  },
  {
   "cell_type": "code",
   "execution_count": null,
   "id": "f905ccba",
   "metadata": {},
   "outputs": [],
   "source": [
    "from unittest import TestCase, main\n",
    "\n",
    "\n",
    "class TestCaminoMinimoDijkstra3(TestCase):\n",
    "    def test_unico_camino(self):\n",
    "        g = nx.DiGraph()\n",
    "        g.add_weighted_edges_from([(\"A\", \"B\", 1), (\"B\", \"C\", 2), (\"C\", \"D\", 3)])\n",
    "        res = camino_minimo_dijkstra_3(g, \"A\")\n",
    "        self.assertEqual(res[\"D\"][0], 6)\n",
    "        self.assertEqual(res[\"D\"][1], [[\"A\", \"B\", \"C\", \"D\"]])\n",
    "\n",
    "    def test_multiples_caminos(self):\n",
    "        g = nx.DiGraph()\n",
    "        g.add_weighted_edges_from([(\"A\", \"B\", 1), (\"A\", \"C\", 1), (\"B\", \"D\", 1), (\"C\", \"D\", 1), (\"A\", \"D\", 2)])\n",
    "        res = camino_minimo_dijkstra_3(g, \"A\")\n",
    "        self.assertEqual(res[\"D\"][0], 2)\n",
    "        caminos = res[\"D\"][1]\n",
    "        esperados = [[\"A\", \"B\", \"D\"], [\"A\", \"C\", \"D\"], [\"A\", \"D\"]]\n",
    "        for esperado in esperados:\n",
    "            self.assertIn(esperado, caminos)\n",
    "        self.assertEqual(len(caminos), 3)\n",
    "\n",
    "    def test_grafo_desconectado(self):\n",
    "        g = nx.DiGraph()\n",
    "        g.add_weighted_edges_from([(\"A\", \"B\", 1), (\"C\", \"D\", 2)])\n",
    "        res = camino_minimo_dijkstra_3(g, \"A\")\n",
    "        self.assertEqual(res[\"D\"][0], float(\"inf\"))\n",
    "        self.assertEqual(res[\"D\"][1], [])\n",
    "\n",
    "\n",
    "test = main(argv=[\"\"], defaultTest=\"TestCaminoMinimoDijkstra3\", verbosity=2, exit=False)\n",
    "len(test.result.failures) == 0"
   ]
  }
 ],
 "metadata": {
  "kernelspec": {
   "display_name": "Python 3 (ipykernel)",
   "language": "python",
   "name": "python3"
  },
  "language_info": {
   "codemirror_mode": {
    "name": "ipython",
    "version": 3
   },
   "file_extension": ".py",
   "mimetype": "text/x-python",
   "name": "python",
   "nbconvert_exporter": "python",
   "pygments_lexer": "ipython3",
   "version": "3.13.3"
  },
  "rise": {
   "start_slideshow_at": "beginning"
  }
 },
 "nbformat": 4,
 "nbformat_minor": 5
}
